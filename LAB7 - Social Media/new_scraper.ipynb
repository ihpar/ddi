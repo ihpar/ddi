{
 "cells": [
  {
   "cell_type": "markdown",
   "metadata": {},
   "source": [
    "Web Scraping\n"
   ]
  },
  {
   "cell_type": "code",
   "execution_count": 1,
   "metadata": {},
   "outputs": [],
   "source": [
    "# pip install --upgrade praw"
   ]
  },
  {
   "cell_type": "code",
   "execution_count": 2,
   "metadata": {},
   "outputs": [],
   "source": [
    "import praw\n",
    "import json"
   ]
  },
  {
   "cell_type": "code",
   "execution_count": 3,
   "metadata": {},
   "outputs": [],
   "source": [
    "# https://youtu.be/U9Ogh1OGP-g\n",
    "# https://youtu.be/nssOuD9EcVk\n",
    "reddit = praw.Reddit(user_agent=True, client_id=\"...\",\n",
    "                     client_secret=\"...\", username=\"...\", password=\"...\")"
   ]
  },
  {
   "cell_type": "code",
   "execution_count": 5,
   "metadata": {},
   "outputs": [],
   "source": [
    "url = \"https://www.reddit.com/r/Turkey/comments/mwaw7r/türkçe_güzel_bir_dil_mi/\""
   ]
  },
  {
   "cell_type": "code",
   "execution_count": 6,
   "metadata": {},
   "outputs": [
    {
     "name": "stdout",
     "output_type": "stream",
     "text": [
      "ID: mwaw7r\n",
      "Başlık: Türkçe güzel bir dil mi?\n",
      "Metin: Bu soru kafama çok takıldı. Türkçe konusunda belki de en çok dert yanan kişi olan Oktay Sinanoğlu'nun dediği şeylere bakacak olursak:\n",
      "\n",
      "-İngilizce dünyadaki en kötü dildir. Daha 500 yıllık bir geçmişi vardır ve beş dilin karşımından oluşmuştur. Yeni bir terim üretme kabiliyeti yoktur. Buna karşılık Türkçe, binlerce yıldır matematiksel yapısını ve sözcük türetme yeteneğini kullanmasını bilmiş, çok zengin bir dildir.\n",
      "\n",
      "-odtü ve Boğaziçi üniversitesi neredeyse tamamen ingilizce eğiyim uygulayan, artniyetli okullardır. Herkes gözünde çok büyütür; fakat bu okullardan mezun olan öğrenciler her şeyi ingilizce öğrenmiltir dolayısıyla hiçbir şeyi tam anlamıyla öğrenememiştir.\n",
      "\n",
      "-Hazırlık kisvesi altında üniversiteye başlayan öğrencilere 1 sene boyunca ingilizce öğretmek büyük israftır ve hiçbir ülkede böyle bir uygulama yoktur.\n",
      "\n",
      "-İngilizler ve Amerikalılar dünyanın en haçlı, en yobaz ve en ırkçı milletidir. Herkesin ingilizce konuşması gerektiği ikinci dünya harbinden sonra amerikalıların yaydığı emperyalist bir oyundur.\n",
      "\n",
      "-\"Bilim dili ingilizcedir, evrensel dil ingilizcedir.\" gibi söylemler tamamen yalandır. Avrupa'daki pek çok ülkede ingilizcenin i'si konuşulmuyor.\n",
      "\n",
      "Açıkçası benim gözüme en çok batan, oktay sinanoğlu'nun \"İngilizler ve Amerikalılar dünyanın en yobaz milletidir...\" deyip amerikada yaşaması ve ölmesi. Yargılamak için demiyorum ama bu benim gözüme çarpan bir unsur. Düşüncelerinizi çok merak ediyorum. Sizce Türkçe oktay sinanoğlu'nun dediği gibi dünyanın en iyi dili yada dillerinden biri olabilir mi?\n",
      "Yorum: Türkçe antik bir dil sayılabilecek kadar eski olduğundan ötürü gayet karmaşık ve gayet de güzel bir dildir. Oktay Sinanoğlu'nun dil öğrenimi ve eğitim dili konusundaki bu sözlerine kesinlikle katılmıyorum. Dünya ile iletişim kurmak istiyor isen İngilizce bilmek zorundasın. Bir szo vardır, başkasına iğne batirmadan önce kendine çuvaldız batır diye. Açıklaması da bir başkasına laf etmeden önce kendine baktır. Türkiyenij yobazlıgini ve ırkçılığın görmeden başkalarına laf etmek, hatta onalrin toprağında yaşayıp ölmek de ayrı bir ironidir.\n",
      "\n",
      "Uzun lafın kısası, Türkçe güzeldir ve İngilizce eğitim zararlı değildir\n",
      "Skor: 27\n",
      "Yorum: Kişilikli bir dil olduğu kesin, istisna sayısı da oldukça az denebilir ama açıkçası İngilizce'nin bu kadar yaygınlaşabilmesi biraz da birçok dilin karıiımı olması ve aynı şeye farklı farklı kelimeler bulabilmesinden geçiyor. Yani diller özgün ya da alıntı yeni sözcüklerle zenginleşir. Çok benzer şeyleri anlatan farklı kelimeler gelişmeye olanak açar. Mesela name isim demek, appelation da Fransızca/Latince çağırmak anlamına gelen appeler fiilinden geliyor ve çağırılış/çağırılma şekli (lakap gibi belki) demek. Bunlar çok yakın anlamda olsalar da duruma göre aralarındaki küçük fark anlamlı olabiliyor.\n",
      "Skor: 8\n",
      "Yorum: Almanyada yaşıyorum ve Almanlar Türkçe dilinde çok ü harfini duyuyor 😄\n",
      "\n",
      "Ve çok Almanyalı Türk, Türkçe eğitim görmediler diye, kendi ana dilinde zorlanıyor. Hele genç generation. Bence Türkçe gramer çok zor.\n",
      "Skor: 6\n",
      "Yorum: Tuhaf bir dil.\n",
      "Skor: 3\n",
      "Yorum: Agalar dilin eskiliği bir şey ifade etmiyor, eğer etseydi yunanca bilim dili olurdu. Ha latince bilimde çok kullanılıyor ama birbiri ile anlaşan kişiler ing öğreniyor hep. Bunun sebebi de açıktır ki, adamların sönürgesi çokmuş dillerini  empoze etmişler. Bu kadar basit yani. Fransızca da aynı, ispanyolca da portekizce de. Amerikada en çok konuşulan ikinci dil neden ispanyolca acep xd her neyse ne derseniz diyin yunanca mükemmel bir dil bana göre. Hem o fonetiği hem nizamı hem tarihi...\n",
      "Skor: 2\n",
      "Yorum: Türkçe sanatsal açıdan çok güzel. Gerek kelimelerinin çok anlamlılığı olsun gerek ünlü uyumu olsun. Şiir yazmak için muazzam bir dil. \n",
      "\n",
      "Tabi İngilizce de sanatsal açıdan geri kalır bir dil değil. Shakespeare Avrupa medeniyetinin belkide en başat eserlerini İngilizce yazmıştır.\n",
      "\n",
      "> İngilizler ve Amerikalılar dünyanın en haçlı, en yobaz ve en ırkçı milletidir \n",
      "\n",
      "Bu cümleler mantıkla yapılmış çıkarımlardan çok duygusal durumun dışa vurumu. Muhtemelen ırkçılıktan nasibini almış kişi.\n",
      "Skor: 2\n",
      "Yorum: Git bir yabancının Türkçe asmr videosunu dinle anlarsın ne kadar güzel olduğunu.\n",
      "Skor: 2\n",
      "Yorum: türkçede önden ekleme fonksiyonu olsa çok iyi olurdu. bence en büyük eksiğimiz bu. gerçi kök belirsizleşeceğinden en fazla 1-2 ek koyabilirsin. şahsen arapçanın sözcük türetme yöntemini çok zekice buluyorum.\n",
      "Skor: 1\n",
      "Yorum: Tüm dünyada esperanto yaygınlaşsa fena olmaz. Bir çok alanda boş bir dil ama sadece iletişim için gayet ideal.\n",
      "Skor: -1\n",
      "Yorum: Kulağa gelişi güzel.\n",
      "Skor: 1\n",
      "Yorum: Bence eksikliği çok olan bir dil. Mesela birçok kelime eksikliği var ve o eksiklikler yabancı kelimerle dolduruluyor. Ayrıca bazen yazılışı bire bir aynı olan kelimelerin anlamı tamamen farklı olabiliyor. Bazen bir yazım hatısasıyla yada bir noktalama hatasıyla bir cümlenin anlamı tamamen değişebiliyor. Ayrıca kelimelerin birbine bağlanmasıya bazen çok uzun ve anlaşılması ve okunması çok zor olan kelimeler oluşabiliyor, mesela \"Muvaffakiyetsizleştiricileştiriveremeyebileceklerimizdenmişsinizcesine\" gibi.\n",
      "Skor: 1\n",
      "Yorum: Dört dil bilen birisi olarak: Bence öğrenmesi zor bir dil. Konuşmak için güzel bir dil ama şiir için çok güzel bir dil değil. Farsça ve Arapça şiirlerin güzellikleri Türkçe ve İngilizce gibi dillerde yok.\n",
      "Skor: 1\n",
      "Yorum: Türkçe hariç üç dil biliyorum. Hepsinin başka güzelliği var. Türkçe'nin bir eksikliğini farketmedim.\n",
      "\n",
      "İngilizce dünya dilidir, çünkü basittir. İş görür.\n",
      "Skor: 1\n",
      "Yorum: Boyle cok derin analizler kasmaya gerek yok. Her dil guzel bir dildir ama bana gore turkce kendi dilim oldugu icin daha da guzeldir. Bundan otesi bana kalıtsa sadece sidik yarısı.\n",
      "Skor: 1\n"
     ]
    }
   ],
   "source": [
    "post = reddit.submission(url=url)\n",
    "\n",
    "post_data = {}  # verileri saklamak icin olusturulan bir dictionary nesnesi\n",
    "\n",
    "print(\"ID:\", post.id)\n",
    "print(\"Başlık:\", post.title)\n",
    "print(\"Metin:\", post.selftext)\n",
    "\n",
    "post_data[\"id\"] = post.id\n",
    "post_data[\"baslik\"] = post.title\n",
    "post_data[\"text\"] = post.selftext\n",
    "post_data[\"comments\"] = []\n",
    "\n",
    "for comment in post.comments:\n",
    "    print(\"Yorum:\", comment.body)\n",
    "    print(\"Skor:\", comment.score)\n",
    "    post_data[\"comments\"].append({\n",
    "        \"yorum\": comment.body,\n",
    "        \"skor\": comment.score\n",
    "    })"
   ]
  },
  {
   "cell_type": "code",
   "execution_count": 7,
   "metadata": {},
   "outputs": [],
   "source": [
    "# topladığımız verileri bir JSON dosyası olarak kaydetme\n",
    "with open(\"reddit.json\", \"w\") as out_file:\n",
    "    json.dump(post_data, out_file, indent=4, ensure_ascii=False)"
   ]
  },
  {
   "cell_type": "code",
   "execution_count": 7,
   "metadata": {},
   "outputs": [
    {
     "name": "stdout",
     "output_type": "stream",
     "text": [
      "Gönderi metni: Bu soru kafama çok takıldı. Türkçe konusunda belki de en çok dert yanan kişi olan Oktay Sinanoğlu'nun dediği şeylere bakacak olursak:\n",
      "\n",
      "-İngilizce dünyadaki en kötü dildir. Daha 500 yıllık bir geçmişi vardır ve beş dilin karşımından oluşmuştur. Yeni bir terim üretme kabiliyeti yoktur. Buna karşılık Türkçe, binlerce yıldır matematiksel yapısını ve sözcük türetme yeteneğini kullanmasını bilmiş, çok zengin bir dildir.\n",
      "\n",
      "-odtü ve Boğaziçi üniversitesi neredeyse tamamen ingilizce eğiyim uygulayan, artniyetli okullardır. Herkes gözünde çok büyütür; fakat bu okullardan mezun olan öğrenciler her şeyi ingilizce öğrenmiltir dolayısıyla hiçbir şeyi tam anlamıyla öğrenememiştir.\n",
      "\n",
      "-Hazırlık kisvesi altında üniversiteye başlayan öğrencilere 1 sene boyunca ingilizce öğretmek büyük israftır ve hiçbir ülkede böyle bir uygulama yoktur.\n",
      "\n",
      "-İngilizler ve Amerikalılar dünyanın en haçlı, en yobaz ve en ırkçı milletidir. Herkesin ingilizce konuşması gerektiği ikinci dünya harbinden sonra amerikalıların yaydığı emperyalist bir oyundur.\n",
      "\n",
      "-\"Bilim dili ingilizcedir, evrensel dil ingilizcedir.\" gibi söylemler tamamen yalandır. Avrupa'daki pek çok ülkede ingilizcenin i'si konuşulmuyor.\n",
      "\n",
      "Açıkçası benim gözüme en çok batan, oktay sinanoğlu'nun \"İngilizler ve Amerikalılar dünyanın en yobaz milletidir...\" deyip amerikada yaşaması ve ölmesi. Yargılamak için demiyorum ama bu benim gözüme çarpan bir unsur. Düşüncelerinizi çok merak ediyorum. Sizce Türkçe oktay sinanoğlu'nun dediği gibi dünyanın en iyi dili yada dillerinden biri olabilir mi?\n",
      "----------------------------------------\n",
      "İlk yorum metni: Türkçe antik bir dil sayılabilecek kadar eski olduğundan ötürü gayet karmaşık ve gayet de güzel bir dildir. Oktay Sinanoğlu'nun dil öğrenimi ve eğitim dili konusundaki bu sözlerine kesinlikle katılmıyorum. Dünya ile iletişim kurmak istiyor isen İngilizce bilmek zorundasın. Bir szo vardır, başkasına iğne batirmadan önce kendine çuvaldız batır diye. Açıklaması da bir başkasına laf etmeden önce kendine baktır. Türkiyenij yobazlıgini ve ırkçılığın görmeden başkalarına laf etmek, hatta onalrin toprağında yaşayıp ölmek de ayrı bir ironidir.\n",
      "\n",
      "Uzun lafın kısası, Türkçe güzeldir ve İngilizce eğitim zararlı değildir\n"
     ]
    }
   ],
   "source": [
    "# kaydedilmiş JSON dosyasını okuma\n",
    "okunan_post_data = {}\n",
    "with open(\"reddit.json\", \"r\") as in_file:\n",
    "    okunan_post_data = json.load(in_file)\n",
    "\n",
    "print(\"Gönderi metni:\", okunan_post_data[\"text\"])\n",
    "print(\"-\" * 40)\n",
    "print(\"İlk yorum metni:\", okunan_post_data[\"comments\"][0][\"yorum\"])"
   ]
  },
  {
   "cell_type": "code",
   "execution_count": null,
   "metadata": {},
   "outputs": [],
   "source": [
    "# https://selenium-python.readthedocs.io\n",
    "\n",
    "# https://youtu.be/mmCkqq_IX-o\n",
    "# https://youtu.be/UD4VzOfhBCQ"
   ]
  }
 ],
 "metadata": {
  "kernelspec": {
   "display_name": "tfnew",
   "language": "python",
   "name": "python3"
  },
  "language_info": {
   "codemirror_mode": {
    "name": "ipython",
    "version": 3
   },
   "file_extension": ".py",
   "mimetype": "text/x-python",
   "name": "python",
   "nbconvert_exporter": "python",
   "pygments_lexer": "ipython3",
   "version": "3.9.16"
  }
 },
 "nbformat": 4,
 "nbformat_minor": 2
}
