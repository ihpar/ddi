{
 "cells": [
  {
   "cell_type": "code",
   "execution_count": 1,
   "metadata": {},
   "outputs": [],
   "source": [
    "# https://pypi.org/project/instabot/\n",
    "import instabot\n",
    "# https://github.com/JustAnotherArchivist/snscrape\n",
    "import snscrape.modules.twitter as sntwitter\n",
    "# https://pypi.org/project/facebook-scraper/\n",
    "from facebook_scraper import get_posts\n",
    "\n",
    "import pandas as pd\n",
    "import json\n",
    "from datetime import datetime\n",
    "import time\n",
    "import random\n",
    "from dotenv import load_dotenv\n",
    "import os\n"
   ]
  },
  {
   "attachments": {},
   "cell_type": "markdown",
   "metadata": {},
   "source": [
    "Instagram"
   ]
  },
  {
   "cell_type": "code",
   "execution_count": 5,
   "metadata": {},
   "outputs": [],
   "source": [
    "load_dotenv()\n",
    "insta_name = os.getenv(\"INS_USERNAME\")\n",
    "insta_pwd = os.getenv(\"INS_PASSWORD\")\n",
    "fb_name = os.getenv(\"FB_USERNAME\")\n",
    "fb_pwd = os.getenv(\"FB_PASSWORD\")\n"
   ]
  },
  {
   "cell_type": "code",
   "execution_count": null,
   "metadata": {},
   "outputs": [],
   "source": [
    "bot = instabot.Bot()\n",
    "bot.login(username=insta_name, password=insta_pwd)\n"
   ]
  },
  {
   "cell_type": "code",
   "execution_count": 30,
   "metadata": {},
   "outputs": [],
   "source": [
    "user_id = bot.get_user_id_from_username(\"elonmuskofflcial\")\n"
   ]
  },
  {
   "cell_type": "code",
   "execution_count": 31,
   "metadata": {},
   "outputs": [
    {
     "name": "stdout",
     "output_type": "stream",
     "text": [
      "12515223199\n"
     ]
    }
   ],
   "source": [
    "print(user_id)\n"
   ]
  },
  {
   "cell_type": "code",
   "execution_count": 32,
   "metadata": {},
   "outputs": [],
   "source": [
    "# tahmini 60 - 150 sn\n",
    "medias = bot.get_total_user_medias(user_id)\n"
   ]
  },
  {
   "cell_type": "code",
   "execution_count": 33,
   "metadata": {},
   "outputs": [
    {
     "data": {
      "text/plain": [
       "list"
      ]
     },
     "execution_count": 33,
     "metadata": {},
     "output_type": "execute_result"
    }
   ],
   "source": [
    "type(medias)\n"
   ]
  },
  {
   "cell_type": "code",
   "execution_count": 34,
   "metadata": {},
   "outputs": [
    {
     "data": {
      "text/plain": [
       "2478"
      ]
     },
     "execution_count": 34,
     "metadata": {},
     "output_type": "execute_result"
    }
   ],
   "source": [
    "len(medias)\n"
   ]
  },
  {
   "cell_type": "code",
   "execution_count": 35,
   "metadata": {},
   "outputs": [
    {
     "data": {
      "text/plain": [
       "['2823662100527899181_12515223199',\n",
       " '2775784022112102803_12515223199',\n",
       " '2780008059355808566_12515223199',\n",
       " '2995209482062115062_12515223199',\n",
       " '2994782218707024015_12515223199']"
      ]
     },
     "execution_count": 35,
     "metadata": {},
     "output_type": "execute_result"
    }
   ],
   "source": [
    "medias[:5]\n"
   ]
  },
  {
   "cell_type": "code",
   "execution_count": 36,
   "metadata": {},
   "outputs": [],
   "source": [
    "media_info = bot.get_media_info(\"2823662100527899181_12515223199\")\n"
   ]
  },
  {
   "cell_type": "code",
   "execution_count": 38,
   "metadata": {},
   "outputs": [
    {
     "name": "stdout",
     "output_type": "stream",
     "text": [
      "<class 'list'>\n",
      "1\n"
     ]
    }
   ],
   "source": [
    "print(type(media_info))\n",
    "print(len(media_info))\n"
   ]
  },
  {
   "cell_type": "code",
   "execution_count": 39,
   "metadata": {},
   "outputs": [
    {
     "data": {
      "text/plain": [
       "[{'taken_at': 1650826774,\n",
       "  'pk': 2823662100527899181,\n",
       "  'id': '2823662100527899181_12515223199',\n",
       "  'device_timestamp': 24000698685842,\n",
       "  'media_type': 1,\n",
       "  'code': 'CcvqbhTsuIt',\n",
       "  'client_cache_key': 'MjgyMzY2MjEwMDUyNzg5OTE4MQ==.2',\n",
       "  'filter_type': 0,\n",
       "  'is_unified_video': False,\n",
       "  'should_request_ads': False,\n",
       "  'original_media_has_visual_reply_media': False,\n",
       "  'caption_is_edited': False,\n",
       "  'like_and_view_counts_disabled': False,\n",
       "  'commerciality_status': 'not_commercial',\n",
       "  'is_paid_partnership': False,\n",
       "  'is_visual_reply_commenter_notice_enabled': False,\n",
       "  'timeline_pinned_user_ids': [12515223199],\n",
       "  'clips_tab_pinned_user_ids': [],\n",
       "  'has_delayed_metadata': False,\n",
       "  'comment_likes_enabled': True,\n",
       "  'comment_threading_enabled': True,\n",
       "  'max_num_visible_preview_comments': 2,\n",
       "  'has_more_comments': True,\n",
       "  'preview_comments': [],\n",
       "  'comment_count': 3153,\n",
       "  'photo_of_you': False,\n",
       "  'is_organic_product_tagging_eligible': False,\n",
       "  'can_see_insights_as_brand': False,\n",
       "  'user': {'pk': 12515223199,\n",
       "   'username': 'elonmuskofflcial',\n",
       "   'profile_pic_url': 'https://instagram.fsaw1-11.fna.fbcdn.net/v/t51.2885-19/56347822_836016063427249_4460912372617314304_n.jpg?stp=dst-jpg_s150x150&_nc_ht=instagram.fsaw1-11.fna.fbcdn.net&_nc_cat=1&_nc_ohc=dRMnJUxBC5oAX_AALso&edm=ALQROFkBAAAA&ccb=7-5&oh=00_AfDHUgj4sIBLQPTVGKwna1Te6ddzuqx6aHg977axbBRcYA&oe=63A22CC4&_nc_sid=30a2ef',\n",
       "   'profile_pic_id': '2019293751092713040_12515223199',\n",
       "   'friendship_status': {'following': False,\n",
       "    'outgoing_request': False,\n",
       "    'is_bestie': False,\n",
       "    'is_restricted': False,\n",
       "    'is_feed_favorite': False},\n",
       "   'is_verified': False,\n",
       "   'full_name': 'Elon Musk',\n",
       "   'is_private': False,\n",
       "   'pk_id': '12515223199',\n",
       "   'has_anonymous_profile_picture': False,\n",
       "   'account_badges': [],\n",
       "   'fan_club_info': {'fan_club_id': None,\n",
       "    'fan_club_name': None,\n",
       "    'is_fan_club_referral_eligible': None,\n",
       "    'fan_consideration_page_revamp_eligiblity': None,\n",
       "    'is_fan_club_gifting_eligible': None},\n",
       "   'transparency_product_enabled': False,\n",
       "   'latest_reel_media': 0,\n",
       "   'is_favorite': False,\n",
       "   'is_unpublished': False},\n",
       "  'can_viewer_reshare': True,\n",
       "  'like_count': 18062,\n",
       "  'has_liked': False,\n",
       "  'top_likers': ['wandacarter930'],\n",
       "  'image_versions2': {'candidates': [{'width': 1080,\n",
       "     'height': 1304,\n",
       "     'url': 'https://instagram.fsaw1-15.fna.fbcdn.net/v/t51.2885-15/279126167_3364645187092468_1284993074326963171_n.webp?se=8&stp=dst-jpg_e35&_nc_ht=instagram.fsaw1-15.fna.fbcdn.net&_nc_cat=104&_nc_ohc=1ywcR8d53vcAX93481y&edm=ALQROFkBAAAA&ccb=7-5&ig_cache_key=MjgyMzY2MjEwMDUyNzg5OTE4MQ%3D%3D.2-ccb7-5&oh=00_AfC43HzuSJ5v7_Mf4cx0x1IKSzlmXE7SnDKAz1lf-zWRWw&oe=63A34887&_nc_sid=30a2ef',\n",
       "     'scans_profile': 'e35',\n",
       "     'estimated_scans_sizes': [8057,\n",
       "      16115,\n",
       "      24173,\n",
       "      32230,\n",
       "      40288,\n",
       "      48628,\n",
       "      58868,\n",
       "      65559,\n",
       "      72519]},\n",
       "    {'width': 360,\n",
       "     'height': 435,\n",
       "     'url': 'https://instagram.fsaw1-15.fna.fbcdn.net/v/t51.2885-15/279126167_3364645187092468_1284993074326963171_n.webp?stp=dst-jpg_e35_p360x360&_nc_ht=instagram.fsaw1-15.fna.fbcdn.net&_nc_cat=104&_nc_ohc=1ywcR8d53vcAX93481y&edm=ALQROFkBAAAA&ccb=7-5&ig_cache_key=MjgyMzY2MjEwMDUyNzg5OTE4MQ%3D%3D.2-ccb7-5&oh=00_AfC2Bz7wj0DJePbJ0-_MC8svRuEfuwiqGmgjcDkWtMb3zg&oe=63A34887&_nc_sid=30a2ef',\n",
       "     'scans_profile': 'e35',\n",
       "     'estimated_scans_sizes': [2452,\n",
       "      4904,\n",
       "      7357,\n",
       "      9809,\n",
       "      12261,\n",
       "      15306,\n",
       "      197691,\n",
       "      22071,\n",
       "      22071]}]},\n",
       "  'original_width': 1080,\n",
       "  'original_height': 1304,\n",
       "  'caption': {'pk': 18290961943017590,\n",
       "   'user_id': 12515223199,\n",
       "   'text': 'Type \"YES\" If You Love This 💯\\n\\nCredit:-- @elonmusk.ab\\n#spacex #nasa #space #elonmusk #science #astronomy #mars #tesla #universe #falcon #astronaut #moon #cosmos #rocket #earth #astrophysics #galaxy #iss #physics #spaceexploration #isro #stars #spacexlaunch #apollo #starship #esa #blackhole #solarsystem #spaceflight #bhfyp',\n",
       "   'type': 1,\n",
       "   'created_at': 1650826775,\n",
       "   'created_at_utc': 1650826775,\n",
       "   'content_type': 'comment',\n",
       "   'status': 'Active',\n",
       "   'bit_flags': 4,\n",
       "   'did_report_as_spam': False,\n",
       "   'share_enabled': False,\n",
       "   'user': {'pk': 12515223199,\n",
       "    'username': 'elonmuskofflcial',\n",
       "    'profile_pic_url': 'https://instagram.fsaw1-11.fna.fbcdn.net/v/t51.2885-19/56347822_836016063427249_4460912372617314304_n.jpg?stp=dst-jpg_s150x150&_nc_ht=instagram.fsaw1-11.fna.fbcdn.net&_nc_cat=1&_nc_ohc=dRMnJUxBC5oAX_AALso&edm=ALQROFkBAAAA&ccb=7-5&oh=00_AfDHUgj4sIBLQPTVGKwna1Te6ddzuqx6aHg977axbBRcYA&oe=63A22CC4&_nc_sid=30a2ef',\n",
       "    'profile_pic_id': '2019293751092713040_12515223199',\n",
       "    'is_verified': False,\n",
       "    'full_name': 'Elon Musk',\n",
       "    'is_private': False,\n",
       "    'pk_id': '12515223199'},\n",
       "   'is_covered': False,\n",
       "   'is_ranked_comment': False,\n",
       "   'media_id': 2823662100527899181,\n",
       "   'private_reply_status': 0},\n",
       "  'comment_inform_treatment': {'should_have_inform_treatment': False,\n",
       "   'text': '',\n",
       "   'url': None,\n",
       "   'action_type': None},\n",
       "  'sharing_friction_info': {'should_have_sharing_friction': False,\n",
       "   'bloks_app_url': None,\n",
       "   'sharing_friction_payload': None},\n",
       "  'can_viewer_save': True,\n",
       "  'is_in_profile_grid': False,\n",
       "  'profile_grid_control_enabled': False,\n",
       "  'organic_tracking_token': 'eyJ2ZXJzaW9uIjo1LCJwYXlsb2FkIjp7ImlzX2FuYWx5dGljc190cmFja2VkIjp0cnVlLCJ1dWlkIjoiMjRmNDFkNTQ1YzUxNDZhY2E5M2JkMTY1NzRhM2E4YzEyODIzNjYyMTAwNTI3ODk5MTgxIiwic2VydmVyX3Rva2VuIjoiMTY3MTI5NTIzMDMxMXwyODIzNjYyMTAwNTI3ODk5MTgxfDQ1NzkxMjg0Mzh8MjhmOTM2YjYxYjRkZmZiZWNlY2ViYjYxMDNmODdlNTlmMjhhYzY3MGY4MDdkMWQ4MmFiNjJmMWQwMjkxN2I5OSJ9LCJzaWduYXR1cmUiOiIifQ==',\n",
       "  'has_shared_to_fb': 0,\n",
       "  'product_type': 'feed',\n",
       "  'deleted_reason': 0,\n",
       "  'integrity_review_decision': 'pending',\n",
       "  'commerce_integrity_review_decision': None,\n",
       "  'music_metadata': {'music_canonical_id': '0',\n",
       "   'audio_type': None,\n",
       "   'music_info': None,\n",
       "   'original_sound_info': None,\n",
       "   'pinned_media_ids': None},\n",
       "  'is_artist_pick': False,\n",
       "  'can_view_more_preview_comments': False,\n",
       "  'inline_composer_imp_trigger_time': 5,\n",
       "  'inline_composer_display_condition': 'impression_trigger',\n",
       "  'hide_view_all_comment_entrypoint': False}]"
      ]
     },
     "execution_count": 39,
     "metadata": {},
     "output_type": "execute_result"
    }
   ],
   "source": [
    "media_info\n"
   ]
  },
  {
   "cell_type": "code",
   "execution_count": 40,
   "metadata": {},
   "outputs": [
    {
     "data": {
      "text/plain": [
       "dict"
      ]
     },
     "execution_count": 40,
     "metadata": {},
     "output_type": "execute_result"
    }
   ],
   "source": [
    "media = media_info[0]\n",
    "type(media)\n"
   ]
  },
  {
   "cell_type": "code",
   "execution_count": 41,
   "metadata": {},
   "outputs": [
    {
     "data": {
      "text/plain": [
       "dict_keys(['taken_at', 'pk', 'id', 'device_timestamp', 'media_type', 'code', 'client_cache_key', 'filter_type', 'is_unified_video', 'should_request_ads', 'original_media_has_visual_reply_media', 'caption_is_edited', 'like_and_view_counts_disabled', 'commerciality_status', 'is_paid_partnership', 'is_visual_reply_commenter_notice_enabled', 'timeline_pinned_user_ids', 'clips_tab_pinned_user_ids', 'has_delayed_metadata', 'comment_likes_enabled', 'comment_threading_enabled', 'max_num_visible_preview_comments', 'has_more_comments', 'preview_comments', 'comment_count', 'photo_of_you', 'is_organic_product_tagging_eligible', 'can_see_insights_as_brand', 'user', 'can_viewer_reshare', 'like_count', 'has_liked', 'top_likers', 'image_versions2', 'original_width', 'original_height', 'caption', 'comment_inform_treatment', 'sharing_friction_info', 'can_viewer_save', 'is_in_profile_grid', 'profile_grid_control_enabled', 'organic_tracking_token', 'has_shared_to_fb', 'product_type', 'deleted_reason', 'integrity_review_decision', 'commerce_integrity_review_decision', 'music_metadata', 'is_artist_pick', 'can_view_more_preview_comments', 'inline_composer_imp_trigger_time', 'inline_composer_display_condition', 'hide_view_all_comment_entrypoint'])"
      ]
     },
     "execution_count": 41,
     "metadata": {},
     "output_type": "execute_result"
    }
   ],
   "source": [
    "media.keys()\n"
   ]
  },
  {
   "cell_type": "code",
   "execution_count": 42,
   "metadata": {},
   "outputs": [
    {
     "data": {
      "text/plain": [
       "{'taken_at': 1650826774,\n",
       " 'pk': 2823662100527899181,\n",
       " 'id': '2823662100527899181_12515223199',\n",
       " 'device_timestamp': 24000698685842,\n",
       " 'media_type': 1,\n",
       " 'code': 'CcvqbhTsuIt',\n",
       " 'client_cache_key': 'MjgyMzY2MjEwMDUyNzg5OTE4MQ==.2',\n",
       " 'filter_type': 0,\n",
       " 'is_unified_video': False,\n",
       " 'should_request_ads': False,\n",
       " 'original_media_has_visual_reply_media': False,\n",
       " 'caption_is_edited': False,\n",
       " 'like_and_view_counts_disabled': False,\n",
       " 'commerciality_status': 'not_commercial',\n",
       " 'is_paid_partnership': False,\n",
       " 'is_visual_reply_commenter_notice_enabled': False,\n",
       " 'timeline_pinned_user_ids': [12515223199],\n",
       " 'clips_tab_pinned_user_ids': [],\n",
       " 'has_delayed_metadata': False,\n",
       " 'comment_likes_enabled': True,\n",
       " 'comment_threading_enabled': True,\n",
       " 'max_num_visible_preview_comments': 2,\n",
       " 'has_more_comments': True,\n",
       " 'preview_comments': [],\n",
       " 'comment_count': 3153,\n",
       " 'photo_of_you': False,\n",
       " 'is_organic_product_tagging_eligible': False,\n",
       " 'can_see_insights_as_brand': False,\n",
       " 'user': {'pk': 12515223199,\n",
       "  'username': 'elonmuskofflcial',\n",
       "  'profile_pic_url': 'https://instagram.fsaw1-11.fna.fbcdn.net/v/t51.2885-19/56347822_836016063427249_4460912372617314304_n.jpg?stp=dst-jpg_s150x150&_nc_ht=instagram.fsaw1-11.fna.fbcdn.net&_nc_cat=1&_nc_ohc=dRMnJUxBC5oAX_AALso&edm=ALQROFkBAAAA&ccb=7-5&oh=00_AfDHUgj4sIBLQPTVGKwna1Te6ddzuqx6aHg977axbBRcYA&oe=63A22CC4&_nc_sid=30a2ef',\n",
       "  'profile_pic_id': '2019293751092713040_12515223199',\n",
       "  'friendship_status': {'following': False,\n",
       "   'outgoing_request': False,\n",
       "   'is_bestie': False,\n",
       "   'is_restricted': False,\n",
       "   'is_feed_favorite': False},\n",
       "  'is_verified': False,\n",
       "  'full_name': 'Elon Musk',\n",
       "  'is_private': False,\n",
       "  'pk_id': '12515223199',\n",
       "  'has_anonymous_profile_picture': False,\n",
       "  'account_badges': [],\n",
       "  'fan_club_info': {'fan_club_id': None,\n",
       "   'fan_club_name': None,\n",
       "   'is_fan_club_referral_eligible': None,\n",
       "   'fan_consideration_page_revamp_eligiblity': None,\n",
       "   'is_fan_club_gifting_eligible': None},\n",
       "  'transparency_product_enabled': False,\n",
       "  'latest_reel_media': 0,\n",
       "  'is_favorite': False,\n",
       "  'is_unpublished': False},\n",
       " 'can_viewer_reshare': True,\n",
       " 'like_count': 18062,\n",
       " 'has_liked': False,\n",
       " 'top_likers': ['wandacarter930'],\n",
       " 'image_versions2': {'candidates': [{'width': 1080,\n",
       "    'height': 1304,\n",
       "    'url': 'https://instagram.fsaw1-15.fna.fbcdn.net/v/t51.2885-15/279126167_3364645187092468_1284993074326963171_n.webp?se=8&stp=dst-jpg_e35&_nc_ht=instagram.fsaw1-15.fna.fbcdn.net&_nc_cat=104&_nc_ohc=1ywcR8d53vcAX93481y&edm=ALQROFkBAAAA&ccb=7-5&ig_cache_key=MjgyMzY2MjEwMDUyNzg5OTE4MQ%3D%3D.2-ccb7-5&oh=00_AfC43HzuSJ5v7_Mf4cx0x1IKSzlmXE7SnDKAz1lf-zWRWw&oe=63A34887&_nc_sid=30a2ef',\n",
       "    'scans_profile': 'e35',\n",
       "    'estimated_scans_sizes': [8057,\n",
       "     16115,\n",
       "     24173,\n",
       "     32230,\n",
       "     40288,\n",
       "     48628,\n",
       "     58868,\n",
       "     65559,\n",
       "     72519]},\n",
       "   {'width': 360,\n",
       "    'height': 435,\n",
       "    'url': 'https://instagram.fsaw1-15.fna.fbcdn.net/v/t51.2885-15/279126167_3364645187092468_1284993074326963171_n.webp?stp=dst-jpg_e35_p360x360&_nc_ht=instagram.fsaw1-15.fna.fbcdn.net&_nc_cat=104&_nc_ohc=1ywcR8d53vcAX93481y&edm=ALQROFkBAAAA&ccb=7-5&ig_cache_key=MjgyMzY2MjEwMDUyNzg5OTE4MQ%3D%3D.2-ccb7-5&oh=00_AfC2Bz7wj0DJePbJ0-_MC8svRuEfuwiqGmgjcDkWtMb3zg&oe=63A34887&_nc_sid=30a2ef',\n",
       "    'scans_profile': 'e35',\n",
       "    'estimated_scans_sizes': [2452,\n",
       "     4904,\n",
       "     7357,\n",
       "     9809,\n",
       "     12261,\n",
       "     15306,\n",
       "     197691,\n",
       "     22071,\n",
       "     22071]}]},\n",
       " 'original_width': 1080,\n",
       " 'original_height': 1304,\n",
       " 'caption': {'pk': 18290961943017590,\n",
       "  'user_id': 12515223199,\n",
       "  'text': 'Type \"YES\" If You Love This 💯\\n\\nCredit:-- @elonmusk.ab\\n#spacex #nasa #space #elonmusk #science #astronomy #mars #tesla #universe #falcon #astronaut #moon #cosmos #rocket #earth #astrophysics #galaxy #iss #physics #spaceexploration #isro #stars #spacexlaunch #apollo #starship #esa #blackhole #solarsystem #spaceflight #bhfyp',\n",
       "  'type': 1,\n",
       "  'created_at': 1650826775,\n",
       "  'created_at_utc': 1650826775,\n",
       "  'content_type': 'comment',\n",
       "  'status': 'Active',\n",
       "  'bit_flags': 4,\n",
       "  'did_report_as_spam': False,\n",
       "  'share_enabled': False,\n",
       "  'user': {'pk': 12515223199,\n",
       "   'username': 'elonmuskofflcial',\n",
       "   'profile_pic_url': 'https://instagram.fsaw1-11.fna.fbcdn.net/v/t51.2885-19/56347822_836016063427249_4460912372617314304_n.jpg?stp=dst-jpg_s150x150&_nc_ht=instagram.fsaw1-11.fna.fbcdn.net&_nc_cat=1&_nc_ohc=dRMnJUxBC5oAX_AALso&edm=ALQROFkBAAAA&ccb=7-5&oh=00_AfDHUgj4sIBLQPTVGKwna1Te6ddzuqx6aHg977axbBRcYA&oe=63A22CC4&_nc_sid=30a2ef',\n",
       "   'profile_pic_id': '2019293751092713040_12515223199',\n",
       "   'is_verified': False,\n",
       "   'full_name': 'Elon Musk',\n",
       "   'is_private': False,\n",
       "   'pk_id': '12515223199'},\n",
       "  'is_covered': False,\n",
       "  'is_ranked_comment': False,\n",
       "  'media_id': 2823662100527899181,\n",
       "  'private_reply_status': 0},\n",
       " 'comment_inform_treatment': {'should_have_inform_treatment': False,\n",
       "  'text': '',\n",
       "  'url': None,\n",
       "  'action_type': None},\n",
       " 'sharing_friction_info': {'should_have_sharing_friction': False,\n",
       "  'bloks_app_url': None,\n",
       "  'sharing_friction_payload': None},\n",
       " 'can_viewer_save': True,\n",
       " 'is_in_profile_grid': False,\n",
       " 'profile_grid_control_enabled': False,\n",
       " 'organic_tracking_token': 'eyJ2ZXJzaW9uIjo1LCJwYXlsb2FkIjp7ImlzX2FuYWx5dGljc190cmFja2VkIjp0cnVlLCJ1dWlkIjoiMjRmNDFkNTQ1YzUxNDZhY2E5M2JkMTY1NzRhM2E4YzEyODIzNjYyMTAwNTI3ODk5MTgxIiwic2VydmVyX3Rva2VuIjoiMTY3MTI5NTIzMDMxMXwyODIzNjYyMTAwNTI3ODk5MTgxfDQ1NzkxMjg0Mzh8MjhmOTM2YjYxYjRkZmZiZWNlY2ViYjYxMDNmODdlNTlmMjhhYzY3MGY4MDdkMWQ4MmFiNjJmMWQwMjkxN2I5OSJ9LCJzaWduYXR1cmUiOiIifQ==',\n",
       " 'has_shared_to_fb': 0,\n",
       " 'product_type': 'feed',\n",
       " 'deleted_reason': 0,\n",
       " 'integrity_review_decision': 'pending',\n",
       " 'commerce_integrity_review_decision': None,\n",
       " 'music_metadata': {'music_canonical_id': '0',\n",
       "  'audio_type': None,\n",
       "  'music_info': None,\n",
       "  'original_sound_info': None,\n",
       "  'pinned_media_ids': None},\n",
       " 'is_artist_pick': False,\n",
       " 'can_view_more_preview_comments': False,\n",
       " 'inline_composer_imp_trigger_time': 5,\n",
       " 'inline_composer_display_condition': 'impression_trigger',\n",
       " 'hide_view_all_comment_entrypoint': False}"
      ]
     },
     "execution_count": 42,
     "metadata": {},
     "output_type": "execute_result"
    }
   ],
   "source": [
    "media\n"
   ]
  },
  {
   "cell_type": "code",
   "execution_count": 43,
   "metadata": {},
   "outputs": [
    {
     "data": {
      "text/plain": [
       "'Type \"YES\" If You Love This 💯\\n\\nCredit:-- @elonmusk.ab\\n#spacex #nasa #space #elonmusk #science #astronomy #mars #tesla #universe #falcon #astronaut #moon #cosmos #rocket #earth #astrophysics #galaxy #iss #physics #spaceexploration #isro #stars #spacexlaunch #apollo #starship #esa #blackhole #solarsystem #spaceflight #bhfyp'"
      ]
     },
     "execution_count": 43,
     "metadata": {},
     "output_type": "execute_result"
    }
   ],
   "source": [
    "media[\"caption\"][\"text\"]\n"
   ]
  },
  {
   "cell_type": "code",
   "execution_count": 44,
   "metadata": {},
   "outputs": [
    {
     "data": {
      "text/plain": [
       "1650826775"
      ]
     },
     "execution_count": 44,
     "metadata": {},
     "output_type": "execute_result"
    }
   ],
   "source": [
    "media[\"caption\"][\"created_at\"]\n"
   ]
  },
  {
   "cell_type": "code",
   "execution_count": 45,
   "metadata": {},
   "outputs": [
    {
     "name": "stdout",
     "output_type": "stream",
     "text": [
      "2022-12-04 20:22:37\n"
     ]
    }
   ],
   "source": [
    "post_date = datetime.fromtimestamp(1670174557)\n",
    "print(post_date)\n"
   ]
  },
  {
   "cell_type": "code",
   "execution_count": 46,
   "metadata": {},
   "outputs": [
    {
     "name": "stdout",
     "output_type": "stream",
     "text": [
      "Query no: 0\n",
      "Query no: 5\n"
     ]
    }
   ],
   "source": [
    "musk_posts = []\n",
    "\n",
    "for i, media_id in enumerate(medias):\n",
    "    if i % 5 == 0:\n",
    "        print(\"Query no:\", i)\n",
    "\n",
    "    if i == 7:\n",
    "        break\n",
    "\n",
    "    try:\n",
    "        media_info = bot.get_media_info(media_id)[0]\n",
    "\n",
    "        text = media_info[\"caption\"][\"text\"]\n",
    "        time_stamp = media_info[\"caption\"][\"created_at\"]\n",
    "        comment_count = media_info[\"comment_count\"]\n",
    "        like_count = media_info[\"like_count\"]\n",
    "\n",
    "        musk_posts.append({\n",
    "            \"text\": text,\n",
    "            \"time\": time_stamp,\n",
    "            \"cc\": comment_count,\n",
    "            \"lc\": like_count\n",
    "        })\n",
    "    except:\n",
    "        print(\"Hata!\")\n",
    "\n",
    "    time.sleep(random.randint(2, 10))\n"
   ]
  },
  {
   "cell_type": "code",
   "execution_count": 47,
   "metadata": {},
   "outputs": [
    {
     "data": {
      "text/html": [
       "<div>\n",
       "<style scoped>\n",
       "    .dataframe tbody tr th:only-of-type {\n",
       "        vertical-align: middle;\n",
       "    }\n",
       "\n",
       "    .dataframe tbody tr th {\n",
       "        vertical-align: top;\n",
       "    }\n",
       "\n",
       "    .dataframe thead th {\n",
       "        text-align: right;\n",
       "    }\n",
       "</style>\n",
       "<table border=\"1\" class=\"dataframe\">\n",
       "  <thead>\n",
       "    <tr style=\"text-align: right;\">\n",
       "      <th></th>\n",
       "      <th>text</th>\n",
       "      <th>time</th>\n",
       "      <th>cc</th>\n",
       "      <th>lc</th>\n",
       "    </tr>\n",
       "  </thead>\n",
       "  <tbody>\n",
       "    <tr>\n",
       "      <th>0</th>\n",
       "      <td>Type \"YES\" If You Love This 💯\\n\\nCredit:-- @el...</td>\n",
       "      <td>1650826775</td>\n",
       "      <td>3153</td>\n",
       "      <td>18062</td>\n",
       "    </tr>\n",
       "    <tr>\n",
       "      <th>1</th>\n",
       "      <td>❤️\\n\\nFollow @elonmuskofflcial for more update...</td>\n",
       "      <td>1645119263</td>\n",
       "      <td>917</td>\n",
       "      <td>14120</td>\n",
       "    </tr>\n",
       "    <tr>\n",
       "      <th>2</th>\n",
       "      <td>What do you think about this? \\n\\nFollow @elon...</td>\n",
       "      <td>1645622809</td>\n",
       "      <td>564</td>\n",
       "      <td>14980</td>\n",
       "    </tr>\n",
       "    <tr>\n",
       "      <th>3</th>\n",
       "      <td>What do you think about this? \\n\\nFollow @elon...</td>\n",
       "      <td>1671276817</td>\n",
       "      <td>48</td>\n",
       "      <td>980</td>\n",
       "    </tr>\n",
       "    <tr>\n",
       "      <th>4</th>\n",
       "      <td>Follow @yourdailycapper to learn how he makes ...</td>\n",
       "      <td>1671225883</td>\n",
       "      <td>0</td>\n",
       "      <td>1233</td>\n",
       "    </tr>\n",
       "  </tbody>\n",
       "</table>\n",
       "</div>"
      ],
      "text/plain": [
       "                                                text        time    cc     lc\n",
       "0  Type \"YES\" If You Love This 💯\\n\\nCredit:-- @el...  1650826775  3153  18062\n",
       "1  ❤️\\n\\nFollow @elonmuskofflcial for more update...  1645119263   917  14120\n",
       "2  What do you think about this? \\n\\nFollow @elon...  1645622809   564  14980\n",
       "3  What do you think about this? \\n\\nFollow @elon...  1671276817    48    980\n",
       "4  Follow @yourdailycapper to learn how he makes ...  1671225883     0   1233"
      ]
     },
     "execution_count": 47,
     "metadata": {},
     "output_type": "execute_result"
    }
   ],
   "source": [
    "df = pd.DataFrame(musk_posts)\n",
    "df.head()\n"
   ]
  },
  {
   "cell_type": "code",
   "execution_count": 48,
   "metadata": {},
   "outputs": [],
   "source": [
    "df.to_csv(\"elon_ins.csv\", index=False)\n"
   ]
  },
  {
   "cell_type": "code",
   "execution_count": 49,
   "metadata": {},
   "outputs": [
    {
     "data": {
      "text/html": [
       "<div>\n",
       "<style scoped>\n",
       "    .dataframe tbody tr th:only-of-type {\n",
       "        vertical-align: middle;\n",
       "    }\n",
       "\n",
       "    .dataframe tbody tr th {\n",
       "        vertical-align: top;\n",
       "    }\n",
       "\n",
       "    .dataframe thead th {\n",
       "        text-align: right;\n",
       "    }\n",
       "</style>\n",
       "<table border=\"1\" class=\"dataframe\">\n",
       "  <thead>\n",
       "    <tr style=\"text-align: right;\">\n",
       "      <th></th>\n",
       "      <th>text</th>\n",
       "      <th>time</th>\n",
       "      <th>cc</th>\n",
       "      <th>lc</th>\n",
       "    </tr>\n",
       "  </thead>\n",
       "  <tbody>\n",
       "    <tr>\n",
       "      <th>0</th>\n",
       "      <td>Type \"YES\" If You Love This 💯\\n\\nCredit:-- @el...</td>\n",
       "      <td>1650826775</td>\n",
       "      <td>3153</td>\n",
       "      <td>18062</td>\n",
       "    </tr>\n",
       "    <tr>\n",
       "      <th>1</th>\n",
       "      <td>❤️\\n\\nFollow @elonmuskofflcial for more update...</td>\n",
       "      <td>1645119263</td>\n",
       "      <td>917</td>\n",
       "      <td>14120</td>\n",
       "    </tr>\n",
       "    <tr>\n",
       "      <th>2</th>\n",
       "      <td>What do you think about this? \\n\\nFollow @elon...</td>\n",
       "      <td>1645622809</td>\n",
       "      <td>564</td>\n",
       "      <td>14980</td>\n",
       "    </tr>\n",
       "    <tr>\n",
       "      <th>3</th>\n",
       "      <td>What do you think about this? \\n\\nFollow @elon...</td>\n",
       "      <td>1671276817</td>\n",
       "      <td>48</td>\n",
       "      <td>980</td>\n",
       "    </tr>\n",
       "    <tr>\n",
       "      <th>4</th>\n",
       "      <td>Follow @yourdailycapper to learn how he makes ...</td>\n",
       "      <td>1671225883</td>\n",
       "      <td>0</td>\n",
       "      <td>1233</td>\n",
       "    </tr>\n",
       "  </tbody>\n",
       "</table>\n",
       "</div>"
      ],
      "text/plain": [
       "                                                text        time    cc     lc\n",
       "0  Type \"YES\" If You Love This 💯\\n\\nCredit:-- @el...  1650826775  3153  18062\n",
       "1  ❤️\\n\\nFollow @elonmuskofflcial for more update...  1645119263   917  14120\n",
       "2  What do you think about this? \\n\\nFollow @elon...  1645622809   564  14980\n",
       "3  What do you think about this? \\n\\nFollow @elon...  1671276817    48    980\n",
       "4  Follow @yourdailycapper to learn how he makes ...  1671225883     0   1233"
      ]
     },
     "execution_count": 49,
     "metadata": {},
     "output_type": "execute_result"
    }
   ],
   "source": [
    "df_loaded = pd.read_csv(\"elon_ins.csv\")\n",
    "df_loaded.head()\n"
   ]
  },
  {
   "cell_type": "code",
   "execution_count": 50,
   "metadata": {},
   "outputs": [],
   "source": [
    "with open(\"elon_ins.json\", \"w\") as out_file:\n",
    "    json.dump(musk_posts, out_file, indent=4, ensure_ascii=False)\n"
   ]
  },
  {
   "cell_type": "code",
   "execution_count": 51,
   "metadata": {},
   "outputs": [],
   "source": [
    "loaded_json = None\n",
    "with open(\"elon_ins.json\", \"r\") as in_file:\n",
    "    loaded_json = json.load(in_file)\n"
   ]
  },
  {
   "cell_type": "code",
   "execution_count": 52,
   "metadata": {},
   "outputs": [
    {
     "data": {
      "text/plain": [
       "[{'text': 'Type \"YES\" If You Love This 💯\\n\\nCredit:-- @elonmusk.ab\\n#spacex #nasa #space #elonmusk #science #astronomy #mars #tesla #universe #falcon #astronaut #moon #cosmos #rocket #earth #astrophysics #galaxy #iss #physics #spaceexploration #isro #stars #spacexlaunch #apollo #starship #esa #blackhole #solarsystem #spaceflight #bhfyp',\n",
       "  'time': 1650826775,\n",
       "  'cc': 3153,\n",
       "  'lc': 18062},\n",
       " {'text': '❤️\\n\\nFollow @elonmuskofflcial for more updates ⚡\\n-\\nVia @elonmayemusk\\n#elonmusk #elonmuskmemes #elonmusknews #elonmuskisagenius #elonmuskquotes',\n",
       "  'time': 1645119263,\n",
       "  'cc': 917,\n",
       "  'lc': 14120},\n",
       " {'text': 'What do you think about this? \\n\\nFollow @elonmuskofflcial for more updates ⚡\\n-\\nVia @vultpreneur\\n#elonmusk #elonmuskmemes #elonmusknews #elonmuskisagenius #elonmuskquotes',\n",
       "  'time': 1645622809,\n",
       "  'cc': 564,\n",
       "  'lc': 14980},\n",
       " {'text': 'What do you think about this? \\n\\nFollow @elonmuskofflcial for more updates ⚡\\n\\nVia @entreprenur\\n\\n#elonmusk #elonmuskmemes #elonmusknews #elonmuskisagenius #elonmuskquotes',\n",
       "  'time': 1671276817,\n",
       "  'cc': 48,\n",
       "  'lc': 980},\n",
       " {'text': 'Follow @yourdailycapper to learn how he makes Six Figures a month from his Sports Betting Business💰 @yourdailycapper @yourdailycapper @yourdailycapper\\n\\n#sponsored',\n",
       "  'time': 1671225883,\n",
       "  'cc': 0,\n",
       "  'lc': 1233},\n",
       " {'text': 'I highly recommend you check out @themodernsdr to learn how you make 4-5 figures/month booking calls for high ticket business owners, using just ONE, in-demand skill ✅\\n\\nCheck out 👉🏼 @themodernsdr\\nCheck out 👉🏼 @themodernsdr\\nCheck out 👉🏼 @themodernsdr\\n.\\n.\\n.\\n.\\n#sponsored \\n\\n#successtips #thinkandgrowrich #motivational #successquote #grindmode #hustling #selfdevelopment #dailyquotes #successmindset #success #successfully',\n",
       "  'time': 1671200094,\n",
       "  'cc': 177,\n",
       "  'lc': 3330},\n",
       " {'text': 'Are our reality just an illusion/simulation? 🤯 What do you think? \\nShare your thoughts below!👇\\n\\nDouble Tap ♥️ & share/tag a friend!\\n\\nFollow @elonmuskofflcial for more updates ⚡\\nVia @bestofelon\\n\\n#Elonmusk #elonmusknews #elonmuskquotes #elonmuskisagenius #elonmuskmotivation #elonmusktesla #elonmusktweets #tesla #spacex #neuralink #theboringcompany #mars #nasa #business #failure #entrepreneur #entrepreneurlife #entrepreneurship #entrepreneurmindset',\n",
       "  'time': 1671190643,\n",
       "  'cc': 60,\n",
       "  'lc': 1247}]"
      ]
     },
     "execution_count": 52,
     "metadata": {},
     "output_type": "execute_result"
    }
   ],
   "source": [
    "loaded_json\n"
   ]
  },
  {
   "attachments": {},
   "cell_type": "markdown",
   "metadata": {},
   "source": [
    "Twitter"
   ]
  },
  {
   "cell_type": "code",
   "execution_count": 54,
   "metadata": {},
   "outputs": [
    {
     "name": "stdout",
     "output_type": "stream",
     "text": [
      "Getting item: 0\n",
      "Getting item: 5\n"
     ]
    }
   ],
   "source": [
    "twitter_user = sntwitter.TwitterUserScraper(\"elonmusk\")\n",
    "tweets = []\n",
    "for i, tweet in enumerate(twitter_user.get_items()):\n",
    "    if i == 7:\n",
    "        break\n",
    "\n",
    "    if i % 5 == 0:\n",
    "        print(\"Getting item:\", i)\n",
    "\n",
    "    tweets.append(tweet)\n"
   ]
  },
  {
   "cell_type": "code",
   "execution_count": 55,
   "metadata": {},
   "outputs": [
    {
     "data": {
      "text/plain": [
       "snscrape.modules.twitter.Tweet"
      ]
     },
     "execution_count": 55,
     "metadata": {},
     "output_type": "execute_result"
    }
   ],
   "source": [
    "type(tweets[0])\n"
   ]
  },
  {
   "cell_type": "code",
   "execution_count": 59,
   "metadata": {},
   "outputs": [
    {
     "data": {
      "text/plain": [
       "Tweet(url='https://twitter.com/elonmusk/status/1604043452282703873', date=datetime.datetime(2022, 12, 17, 9, 18, 55, tzinfo=datetime.timezone.utc), content='@teslaownersSV Correct', renderedContent='@teslaownersSV Correct', id=1604043452282703873, user=User(username='elonmusk', id=44196397, displayname='Elon Musk', description='', rawDescription='', descriptionUrls=None, verified=True, created=datetime.datetime(2009, 6, 2, 20, 12, 29, tzinfo=datetime.timezone.utc), followersCount=121848542, friendsCount=149, statusesCount=21452, favouritesCount=16113, listedCount=105618, mediaCount=1340, location='', protected=False, linkUrl=None, linkTcourl=None, profileImageUrl='https://pbs.twimg.com/profile_images/1590968738358079488/IY9Gx6Ok_normal.jpg', profileBannerUrl='https://pbs.twimg.com/profile_banners/44196397/1576183471', label=None), replyCount=1044, retweetCount=774, likeCount=18628, quoteCount=54, conversationId=1603666589051539456, lang='en', source='<a href=\"http://twitter.com/download/iphone\" rel=\"nofollow\">Twitter for iPhone</a>', sourceUrl='http://twitter.com/download/iphone', sourceLabel='Twitter for iPhone', outlinks=None, tcooutlinks=None, media=None, retweetedTweet=None, quotedTweet=None, inReplyToTweetId=1603666589051539456, inReplyToUser=User(username='teslaownersSV', id=1016059981907386368, displayname='Tesla Owners Silicon Valley', description=None, rawDescription=None, descriptionUrls=None, verified=None, created=None, followersCount=None, friendsCount=None, statusesCount=None, favouritesCount=None, listedCount=None, mediaCount=None, location=None, protected=None, linkUrl=None, linkTcourl=None, profileImageUrl=None, profileBannerUrl=None, label=None), mentionedUsers=[User(username='teslaownersSV', id=1016059981907386368, displayname='Tesla Owners Silicon Valley', description=None, rawDescription=None, descriptionUrls=None, verified=None, created=None, followersCount=None, friendsCount=None, statusesCount=None, favouritesCount=None, listedCount=None, mediaCount=None, location=None, protected=None, linkUrl=None, linkTcourl=None, profileImageUrl=None, profileBannerUrl=None, label=None)], coordinates=None, place=None, hashtags=None, cashtags=None)"
      ]
     },
     "execution_count": 59,
     "metadata": {},
     "output_type": "execute_result"
    }
   ],
   "source": [
    "tweets[0]\n"
   ]
  },
  {
   "cell_type": "code",
   "execution_count": 60,
   "metadata": {},
   "outputs": [
    {
     "data": {
      "text/plain": [
       "'@teslaownersSV Correct'"
      ]
     },
     "execution_count": 60,
     "metadata": {},
     "output_type": "execute_result"
    }
   ],
   "source": [
    "tweets[0].content\n"
   ]
  },
  {
   "cell_type": "code",
   "execution_count": 62,
   "metadata": {},
   "outputs": [
    {
     "data": {
      "text/plain": [
       "'@Jason Quite frankly, a few days away from Twitter is good for their mental health'"
      ]
     },
     "execution_count": 62,
     "metadata": {},
     "output_type": "execute_result"
    }
   ],
   "source": [
    "tweets[6].content\n"
   ]
  },
  {
   "cell_type": "code",
   "execution_count": 63,
   "metadata": {},
   "outputs": [],
   "source": [
    "ht_scraper = sntwitter.TwitterHashtagScraper(\"health\")\n"
   ]
  },
  {
   "cell_type": "code",
   "execution_count": 64,
   "metadata": {},
   "outputs": [],
   "source": [
    "ht_tweets = []\n",
    "for i, tweet in enumerate(ht_scraper.get_items()):\n",
    "    if i == 7:\n",
    "        break\n",
    "    ht_tweets.append(tweet)\n"
   ]
  },
  {
   "cell_type": "code",
   "execution_count": 65,
   "metadata": {},
   "outputs": [
    {
     "data": {
      "text/plain": [
       "Tweet(url='https://twitter.com/byLilyV/status/1604160261354651652', date=datetime.datetime(2022, 12, 17, 17, 3, 4, tzinfo=datetime.timezone.utc), content='#Mental #Health and #Wellness Professional (MHW) Diploma #Course\\nDiscover a flexible and comprehensive way of understanding mental health as a Certified Mental Health Professional (MHP)\\n\\nhttps://t.co/hrV9bkD4Kd\\n\\n#udemy #achology #mentalhealth #lifestyle #psychology #online https://t.co/kH4yvaYdSG', renderedContent='#Mental #Health and #Wellness Professional (MHW) Diploma #Course\\nDiscover a flexible and comprehensive way of understanding mental health as a Certified Mental Health Professional (MHP)\\n\\nmedia4you.social/career-develop…\\n\\n#udemy #achology #mentalhealth #lifestyle #psychology #online https://t.co/kH4yvaYdSG', id=1604160261354651652, user=User(username='byLilyV', id=134434122, displayname='Education4you.online', description='Education affiliate marketer & lifelong learning coach! I can coach you to a learning experience that strengthens your skills and enhances your personality.', rawDescription='Education affiliate marketer & lifelong learning coach! I can coach you to a learning experience that strengthens your skills and enhances your personality.', descriptionUrls=None, verified=False, created=datetime.datetime(2010, 4, 18, 11, 58, 9, tzinfo=datetime.timezone.utc), followersCount=28136, friendsCount=19992, statusesCount=312274, favouritesCount=3691, listedCount=391, mediaCount=298429, location='Bradford, Yorkshire', protected=False, linkUrl='https://media4you.social/career-development.html', linkTcourl='https://t.co/zN7p38klQV', profileImageUrl='https://pbs.twimg.com/profile_images/1286667414873276416/1J-cKwoj_normal.jpg', profileBannerUrl='https://pbs.twimg.com/profile_banners/134434122/1664716478', label=None), replyCount=0, retweetCount=0, likeCount=1, quoteCount=0, conversationId=1604160261354651652, lang='en', source='<a href=\"https://app.socialpilot.co/\" rel=\"nofollow\">SocialPilot.co</a>', sourceUrl='https://app.socialpilot.co/', sourceLabel='SocialPilot.co', outlinks=['https://media4you.social/career-development/online-courses/71-mental-health-practitioner-course.html'], tcooutlinks=['https://t.co/hrV9bkD4Kd'], media=[Photo(previewUrl='https://pbs.twimg.com/media/FkMfQbqXwAECTmt?format=jpg&name=small', fullUrl='https://pbs.twimg.com/media/FkMfQbqXwAECTmt?format=jpg&name=large')], retweetedTweet=None, quotedTweet=None, inReplyToTweetId=None, inReplyToUser=None, mentionedUsers=None, coordinates=None, place=None, hashtags=['Mental', 'Health', 'Wellness', 'Course', 'udemy', 'achology', 'mentalhealth', 'lifestyle', 'psychology', 'online'], cashtags=None)"
      ]
     },
     "execution_count": 65,
     "metadata": {},
     "output_type": "execute_result"
    }
   ],
   "source": [
    "ht_tweets[0]\n"
   ]
  },
  {
   "cell_type": "code",
   "execution_count": 66,
   "metadata": {},
   "outputs": [
    {
     "data": {
      "text/plain": [
       "'#Mental #Health and #Wellness Professional (MHW) Diploma #Course\\nDiscover a flexible and comprehensive way of understanding mental health as a Certified Mental Health Professional (MHP)\\n\\nhttps://t.co/hrV9bkD4Kd\\n\\n#udemy #achology #mentalhealth #lifestyle #psychology #online https://t.co/kH4yvaYdSG'"
      ]
     },
     "execution_count": 66,
     "metadata": {},
     "output_type": "execute_result"
    }
   ],
   "source": [
    "ht_tweets[0].content\n"
   ]
  },
  {
   "cell_type": "code",
   "execution_count": null,
   "metadata": {},
   "outputs": [],
   "source": [
    "fb_posts = []\n",
    "for i, post in enumerate(get_posts(\"elonmuskrevee\", \n",
    "                        timeout=120, pages=100, \n",
    "                        credentials=(fb_name, fb_pwd))):\n",
    "                        \n",
    "    if i == 7:\n",
    "        break\n",
    "    if i % 5 == 0:\n",
    "        print(\"FB:\", i)\n",
    "    fb_posts.append(post)\n"
   ]
  },
  {
   "attachments": {},
   "cell_type": "markdown",
   "metadata": {},
   "source": [
    "Reddit\n",
    "\n",
    "https://www.youtube.com/watch?v=FdjVoOf9HN4\n",
    "\n",
    "https://youtu.be/8VZhog5C3bU"
   ]
  },
  {
   "attachments": {},
   "cell_type": "markdown",
   "metadata": {},
   "source": [
    "Selenium\n",
    "\n",
    "https://youtu.be/UOsRrxMKJYk\n",
    "\n",
    "https://youtu.be/z-RGY4xRKDw"
   ]
  }
 ],
 "metadata": {
  "kernelspec": {
   "display_name": "tfnew",
   "language": "python",
   "name": "python3"
  },
  "language_info": {
   "codemirror_mode": {
    "name": "ipython",
    "version": 3
   },
   "file_extension": ".py",
   "mimetype": "text/x-python",
   "name": "python",
   "nbconvert_exporter": "python",
   "pygments_lexer": "ipython3",
   "version": "3.9.13"
  },
  "orig_nbformat": 4,
  "vscode": {
   "interpreter": {
    "hash": "93a508892ad0418bbbef2f3796edd4c06527622cb95cdcc5e9525e8332085ac2"
   }
  }
 },
 "nbformat": 4,
 "nbformat_minor": 2
}
