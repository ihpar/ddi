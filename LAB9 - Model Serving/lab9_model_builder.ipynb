{
 "cells": [
  {
   "cell_type": "code",
   "execution_count": 1,
   "metadata": {},
   "outputs": [],
   "source": [
    "import numpy as np\n",
    "import pandas as pd\n",
    "import string\n",
    "import random\n",
    "import re\n",
    "import pickle\n",
    "\n",
    "from sklearn.tree import DecisionTreeClassifier\n",
    "from sklearn.feature_extraction.text import TfidfVectorizer\n",
    "from sklearn.model_selection import train_test_split\n"
   ]
  },
  {
   "cell_type": "code",
   "execution_count": 2,
   "metadata": {},
   "outputs": [],
   "source": [
    "# https://www.kaggle.com/code/ihsncnkz/techcareer-project\n",
    "df = pd.read_csv(\"magaza_yorumlari_duygu_analizi.csv\", encoding=\"utf-16\")\n"
   ]
  },
  {
   "cell_type": "code",
   "execution_count": 3,
   "metadata": {},
   "outputs": [
    {
     "data": {
      "text/html": [
       "<div>\n",
       "<style scoped>\n",
       "    .dataframe tbody tr th:only-of-type {\n",
       "        vertical-align: middle;\n",
       "    }\n",
       "\n",
       "    .dataframe tbody tr th {\n",
       "        vertical-align: top;\n",
       "    }\n",
       "\n",
       "    .dataframe thead th {\n",
       "        text-align: right;\n",
       "    }\n",
       "</style>\n",
       "<table border=\"1\" class=\"dataframe\">\n",
       "  <thead>\n",
       "    <tr style=\"text-align: right;\">\n",
       "      <th></th>\n",
       "      <th>Görüş</th>\n",
       "      <th>Durum</th>\n",
       "    </tr>\n",
       "  </thead>\n",
       "  <tbody>\n",
       "    <tr>\n",
       "      <th>0</th>\n",
       "      <td>ses kalitesi ve ergonomisi rezalet, sony olduğ...</td>\n",
       "      <td>Olumsuz</td>\n",
       "    </tr>\n",
       "    <tr>\n",
       "      <th>1</th>\n",
       "      <td>hizli teslimat tesekkürler</td>\n",
       "      <td>Tarafsız</td>\n",
       "    </tr>\n",
       "    <tr>\n",
       "      <th>2</th>\n",
       "      <td>ses olayı süper....gece çalıştır sıkıntı yok.....</td>\n",
       "      <td>Olumlu</td>\n",
       "    </tr>\n",
       "    <tr>\n",
       "      <th>3</th>\n",
       "      <td>geldi bigün kullandık hemen bozoldu hiçtavsiye...</td>\n",
       "      <td>Olumsuz</td>\n",
       "    </tr>\n",
       "    <tr>\n",
       "      <th>4</th>\n",
       "      <td>Kulaklığın sesi kaliteli falan değil. Aleti öv...</td>\n",
       "      <td>Olumsuz</td>\n",
       "    </tr>\n",
       "  </tbody>\n",
       "</table>\n",
       "</div>"
      ],
      "text/plain": [
       "                                               Görüş     Durum\n",
       "0  ses kalitesi ve ergonomisi rezalet, sony olduğ...   Olumsuz\n",
       "1                         hizli teslimat tesekkürler  Tarafsız\n",
       "2  ses olayı süper....gece çalıştır sıkıntı yok.....    Olumlu\n",
       "3  geldi bigün kullandık hemen bozoldu hiçtavsiye...   Olumsuz\n",
       "4  Kulaklığın sesi kaliteli falan değil. Aleti öv...   Olumsuz"
      ]
     },
     "execution_count": 3,
     "metadata": {},
     "output_type": "execute_result"
    }
   ],
   "source": [
    "df.head()\n"
   ]
  },
  {
   "cell_type": "code",
   "execution_count": 4,
   "metadata": {},
   "outputs": [
    {
     "name": "stdout",
     "output_type": "stream",
     "text": [
      "<class 'pandas.core.frame.DataFrame'>\n",
      "RangeIndex: 11429 entries, 0 to 11428\n",
      "Data columns (total 2 columns):\n",
      " #   Column  Non-Null Count  Dtype \n",
      "---  ------  --------------  ----- \n",
      " 0   Görüş   11426 non-null  object\n",
      " 1   Durum   11429 non-null  object\n",
      "dtypes: object(2)\n",
      "memory usage: 178.7+ KB\n"
     ]
    }
   ],
   "source": [
    "df.info()\n"
   ]
  },
  {
   "cell_type": "code",
   "execution_count": 5,
   "metadata": {},
   "outputs": [],
   "source": [
    "df.dropna(inplace=True)\n"
   ]
  },
  {
   "cell_type": "code",
   "execution_count": 6,
   "metadata": {},
   "outputs": [
    {
     "data": {
      "text/plain": [
       "Olumlu      4252\n",
       "Olumsuz     4237\n",
       "Tarafsız    2937\n",
       "Name: Durum, dtype: int64"
      ]
     },
     "execution_count": 6,
     "metadata": {},
     "output_type": "execute_result"
    }
   ],
   "source": [
    "df[\"Durum\"].value_counts()\n"
   ]
  },
  {
   "cell_type": "code",
   "execution_count": 7,
   "metadata": {},
   "outputs": [],
   "source": [
    "df = df.loc[df[\"Durum\"].isin([\"Olumlu\", \"Olumsuz\"])]\n"
   ]
  },
  {
   "cell_type": "code",
   "execution_count": 8,
   "metadata": {},
   "outputs": [
    {
     "data": {
      "text/plain": [
       "Olumlu     4252\n",
       "Olumsuz    4237\n",
       "Name: Durum, dtype: int64"
      ]
     },
     "execution_count": 8,
     "metadata": {},
     "output_type": "execute_result"
    }
   ],
   "source": [
    "df[\"Durum\"].value_counts()\n"
   ]
  },
  {
   "cell_type": "code",
   "execution_count": 9,
   "metadata": {},
   "outputs": [],
   "source": [
    "def etiketle(row):\n",
    "    if row[\"Durum\"] == \"Olumlu\":\n",
    "        return 1\n",
    "    return 0\n"
   ]
  },
  {
   "cell_type": "code",
   "execution_count": 10,
   "metadata": {},
   "outputs": [],
   "source": [
    "df[\"label\"] = df.apply(lambda row: etiketle(row), axis=1)\n"
   ]
  },
  {
   "cell_type": "code",
   "execution_count": 11,
   "metadata": {},
   "outputs": [
    {
     "data": {
      "text/html": [
       "<div>\n",
       "<style scoped>\n",
       "    .dataframe tbody tr th:only-of-type {\n",
       "        vertical-align: middle;\n",
       "    }\n",
       "\n",
       "    .dataframe tbody tr th {\n",
       "        vertical-align: top;\n",
       "    }\n",
       "\n",
       "    .dataframe thead th {\n",
       "        text-align: right;\n",
       "    }\n",
       "</style>\n",
       "<table border=\"1\" class=\"dataframe\">\n",
       "  <thead>\n",
       "    <tr style=\"text-align: right;\">\n",
       "      <th></th>\n",
       "      <th>Görüş</th>\n",
       "      <th>Durum</th>\n",
       "      <th>label</th>\n",
       "    </tr>\n",
       "  </thead>\n",
       "  <tbody>\n",
       "    <tr>\n",
       "      <th>0</th>\n",
       "      <td>ses kalitesi ve ergonomisi rezalet, sony olduğ...</td>\n",
       "      <td>Olumsuz</td>\n",
       "      <td>0</td>\n",
       "    </tr>\n",
       "    <tr>\n",
       "      <th>2</th>\n",
       "      <td>ses olayı süper....gece çalıştır sıkıntı yok.....</td>\n",
       "      <td>Olumlu</td>\n",
       "      <td>1</td>\n",
       "    </tr>\n",
       "    <tr>\n",
       "      <th>3</th>\n",
       "      <td>geldi bigün kullandık hemen bozoldu hiçtavsiye...</td>\n",
       "      <td>Olumsuz</td>\n",
       "      <td>0</td>\n",
       "    </tr>\n",
       "    <tr>\n",
       "      <th>4</th>\n",
       "      <td>Kulaklığın sesi kaliteli falan değil. Aleti öv...</td>\n",
       "      <td>Olumsuz</td>\n",
       "      <td>0</td>\n",
       "    </tr>\n",
       "    <tr>\n",
       "      <th>6</th>\n",
       "      <td>kullanisli baya</td>\n",
       "      <td>Olumlu</td>\n",
       "      <td>1</td>\n",
       "    </tr>\n",
       "  </tbody>\n",
       "</table>\n",
       "</div>"
      ],
      "text/plain": [
       "                                               Görüş    Durum  label\n",
       "0  ses kalitesi ve ergonomisi rezalet, sony olduğ...  Olumsuz      0\n",
       "2  ses olayı süper....gece çalıştır sıkıntı yok.....   Olumlu      1\n",
       "3  geldi bigün kullandık hemen bozoldu hiçtavsiye...  Olumsuz      0\n",
       "4  Kulaklığın sesi kaliteli falan değil. Aleti öv...  Olumsuz      0\n",
       "6                                    kullanisli baya   Olumlu      1"
      ]
     },
     "execution_count": 11,
     "metadata": {},
     "output_type": "execute_result"
    }
   ],
   "source": [
    "df.head()\n"
   ]
  },
  {
   "cell_type": "code",
   "execution_count": 12,
   "metadata": {},
   "outputs": [
    {
     "name": "stdout",
     "output_type": "stream",
     "text": [
      "SAKIN ALMAYIN !!!!\n",
      "\n",
      "Aşağıdaki linkte detaylı olarak yazdım. Konu Tüketici Hakem Heyetinde. Sonucu bekliyorum.\n",
      "--------------------\n",
      "Beklentinin çok yüksek olmasın, Birincisi kargo şirketi berbat, başka\n",
      "şirket yokmuş gibi yurtiçi kargo da niye ısrar ediliyor? Adamlar\n",
      "ellerindeki ürünü eve getirmiyo, neyse ürüne gelince süper bir ürün\n",
      "beklemeyin, başta paket çok zayıf, kargoda yırtılmış, ürün basit,\n",
      "kaliteli birşey yapılmamış, ısıtıcı rezistanslar açıkta, geç pişiriyor\n",
      "vb. Şeyler kısacası hayaller ve gerçekler farklı.\n",
      "--------------------\n",
      "ürün elime çok çabuk ulaştı çeyizime aldım inşallah pişman olmam daha kullanmadım\n",
      "--------------------\n",
      "Hemen yanibasinda kullanarak fiyat performans olarak cok iyi verim alabilirsiniz ancak 2 oda uzaklastiginizda cekmiyor cektiginde kopuyor. Genisletici ile kullaninca da surekli bir sorun oluyor tavsiye etmiyorum.\n",
      "--------------------\n",
      "Beklediğimden de kötü çıktı tavsiye etmiyorum\n",
      "--------------------\n",
      "Annem için ürünü satın aldım. yaşlı olduğu için çok temizlik yapamıyor ama yinede evde bulunması gereken bir ürün. toz torbasız oluşu iyi çok fazla filtre ile uğraşmıyorsunuz haznesi geniş. gücü yüksek iyi ve sağlam kaliteli parçaları var.\n",
      "--------------------\n",
      "ürün hile ile schaomi Türkiye garantili gibi gösterilmiş garanti\n",
      "belgesinin kutunun üzerine eşyamı Türkiye bandrolü yapıştırılarak öyle\n",
      "bir hava verilmiş.\n",
      "--------------------\n",
      "27 yaşındayım, bir çok sistem denedim ve şüphesiz ki dinlediğim en kötü sistemin bu olduğuna kanaat getirdim. Bass çok baskın ve tatlı değil ayrıca bass ayarı yok. Paranızı çöpe atmak istiyorsanız alın.\n",
      "--------------------\n",
      "Hızlı kargo orjinal ürün için teşekkürler\n",
      "--------------------\n",
      "gayet güzel sadece kare tepsi kenarlara sürterek giriyor tam ayarını\n",
      "tutturmak zorluyor :) 2 tepsiyi aynı anda pişirmesi de cok iyi,\n",
      "yorumlardan acaba cizik gelir mi diye korkmustum ancak hiç bir sorunu\n",
      "olmadan geldi.\n",
      "--------------------\n"
     ]
    }
   ],
   "source": [
    "for _ in range(10):\n",
    "    idx = random.randint(0, len(df)-1)\n",
    "    print(df.iloc[idx][\"Görüş\"])\n",
    "    print(\"-\" * 20)\n"
   ]
  },
  {
   "cell_type": "code",
   "execution_count": 13,
   "metadata": {},
   "outputs": [],
   "source": [
    "stop_words = [\"a\", \"acaba\", \"altı\", \"ama\", \"ancak\", \"artık\", \"asla\", \"aslında\", \"az\", \"b\", \"bana\", \"bazen\", \"bazı\", \"bazıları\", \"bazısı\", \"belki\", \"ben\", \"beni\", \"benim\", \"beş\", \"bile\", \"bir\", \"birçoğu\", \"birçok\", \"birçokları\", \"biri\", \"birisi\", \"birkaç\", \"birkaçı\", \"birşey\", \"birşeyi\", \"biz\", \"bize\", \"bizi\", \"bizim\", \"böyle\", \"böylece\", \"bu\", \"buna\", \"bunda\", \"bundan\", \"bunu\", \"bunun\", \"burada\", \"bütün\", \"c\", \"ç\", \"çoğu\", \"çoğuna\", \"çoğunu\", \"çok\", \"çünkü\", \"d\", \"da\", \"daha\", \"de\", \"değil\", \"demek\", \"diğer\", \"diğeri\", \"diğerleri\", \"diye\", \"dokuz\", \"dolayı\", \"dört\", \"e\", \"elbette\", \"en\", \"f\", \"fakat\", \"falan\", \"felan\", \"filan\", \"g\", \"gene\", \"gibi\", \"ğ\", \"h\", \"hâlâ\", \"hangi\", \"hangisi\", \"hani\", \"hatta\", \"hem\", \"henüz\", \"hep\", \"hepsi\", \"hepsine\", \"hepsini\", \"her\", \"her biri\", \"herkes\", \"herkese\", \"herkesi\", \"hiç\", \"hiç kimse\", \"hiçbiri\", \"hiçbirine\", \"hiçbirini\", \"ı\", \"i\", \"için\", \"içinde\", \"iki\", \"ile\", \"ise\",\n",
    "              \"işte\", \"j\", \"k\", \"kaç\", \"kadar\", \"kendi\", \"kendine\", \"kendini\", \"ki\", \"kim\", \"kime\", \"kimi\", \"kimin\", \"kimisi\", \"l\", \"m\", \"madem\", \"mı\", \"mı\", \"mi\", \"mu\", \"mu\", \"mü\", \"mü\", \"n\", \"nasıl\", \"ne\", \"ne kadar\", \"ne zaman\", \"neden\", \"nedir\", \"nerde\", \"nerede\", \"nereden\", \"nereye\", \"nesi\", \"neyse\", \"niçin\", \"niye\", \"o\", \"on\", \"ona\", \"ondan\", \"onlar\", \"onlara\", \"onlardan\", \"onların\", \"onların\", \"onu\", \"onun\", \"orada\", \"oysa\", \"oysaki\", \"ö\", \"öbürü\", \"ön\", \"önce\", \"ötürü\", \"öyle\", \"p\", \"r\", \"rağmen\", \"s\", \"sana\", \"sekiz\", \"sen\", \"senden\", \"seni\", \"senin\", \"siz\", \"sizden\", \"size\", \"sizi\", \"sizin\", \"son\", \"sonra\", \"ş\", \"şayet\", \"şey\", \"şeyden\", \"şeye\", \"şeyi\", \"şeyler\", \"şimdi\", \"şöyle\", \"şu\", \"şuna\", \"şunda\", \"şundan\", \"şunlar\", \"şunu\", \"şunun\", \"t\", \"tabi\", \"tamam\", \"tüm\", \"tümü\", \"u\", \"ü\", \"üç\", \"üzere\", \"v\", \"var\", \"ve\", \"veya\", \"veyahut\", \"y\", \"ya\", \"ya da\", \"yani\", \"yedi\", \"yerine\", \"yine\", \"yoksa\", \"z\", \"zaten\"]\n"
   ]
  },
  {
   "cell_type": "code",
   "execution_count": 14,
   "metadata": {},
   "outputs": [],
   "source": [
    "def clean_text(text):\n",
    "    text = \" \".join(text.split())\n",
    "    text = text.lower()\n",
    "    text = text.replace(\"\\\\n\", \" \")\n",
    "    text = re.sub(\"[0-9]+\", \"\", text)\n",
    "    text = re.sub(\"%|(|)|-\", \"\", text)\n",
    "    text = text.translate(str.maketrans(\"\", \"\", string.punctuation))\n",
    "    text = [t for t in text.split() if t not in stop_words]\n",
    "    return \" \".join(text)\n"
   ]
  },
  {
   "cell_type": "code",
   "execution_count": 15,
   "metadata": {},
   "outputs": [],
   "source": [
    "df[\"clean\"] = df.apply(lambda row: clean_text(row[\"Görüş\"]), axis=1)\n"
   ]
  },
  {
   "cell_type": "code",
   "execution_count": 16,
   "metadata": {},
   "outputs": [
    {
     "name": "stdout",
     "output_type": "stream",
     "text": [
      "ay buhar düğmesi bozuldu kesinlikle tavsiye etmiyorum\n",
      "--------------------\n",
      "kullanışsız\n",
      "--------------------\n",
      "balkonda bahçede kullandık başarılı\n",
      "--------------------\n",
      "geçen ay çeyizime almıştım kullanma fırsatım olmadı paketleme kargolama iyiydi fiyatı oldukça uyguna geldi indirimleri takip etmenizi öneririm parçalarımı tefal alıyordum bozmak istemedim düzeni mutfakta bence zaman iyisi tefal\n",
      "--------------------\n",
      "ürün beklediğimden küçük cok fazla ses vermemkteaçıkcası tavsiye etmiyorumkargo konusunda gayet iyidi\n",
      "--------------------\n",
      "kaliteli çeyiz muhtwsem\n",
      "--------------------\n",
      "beğenmedim aldım ürün verdiğim kargo\n",
      "--------------------\n",
      "ürün gereksiz şekilde uzun cm kısa olması gerekirmiş parmak okuyucu iyi çalışmıyor defa deniyorsunuz inceligi hafifliği güzel kamerası orta seviye cekiyor\n",
      "--------------------\n",
      "olumlu yönleri ürün istediğim emeği geçenlere teşekkürler\n",
      "--------------------\n",
      "beklediğim kaliteli\n",
      "--------------------\n"
     ]
    }
   ],
   "source": [
    "for _ in range(10):\n",
    "    idx = random.randint(0, len(df)-1)\n",
    "    print(df.iloc[idx][\"clean\"])\n",
    "    print(\"-\" * 20)\n"
   ]
  },
  {
   "cell_type": "code",
   "execution_count": 17,
   "metadata": {},
   "outputs": [
    {
     "data": {
      "text/html": [
       "<div>\n",
       "<style scoped>\n",
       "    .dataframe tbody tr th:only-of-type {\n",
       "        vertical-align: middle;\n",
       "    }\n",
       "\n",
       "    .dataframe tbody tr th {\n",
       "        vertical-align: top;\n",
       "    }\n",
       "\n",
       "    .dataframe thead th {\n",
       "        text-align: right;\n",
       "    }\n",
       "</style>\n",
       "<table border=\"1\" class=\"dataframe\">\n",
       "  <thead>\n",
       "    <tr style=\"text-align: right;\">\n",
       "      <th></th>\n",
       "      <th>Görüş</th>\n",
       "      <th>Durum</th>\n",
       "      <th>label</th>\n",
       "      <th>clean</th>\n",
       "    </tr>\n",
       "  </thead>\n",
       "  <tbody>\n",
       "    <tr>\n",
       "      <th>0</th>\n",
       "      <td>ses kalitesi ve ergonomisi rezalet, sony olduğ...</td>\n",
       "      <td>Olumsuz</td>\n",
       "      <td>0</td>\n",
       "      <td>ses kalitesi ergonomisi rezalet sony olduğu al...</td>\n",
       "    </tr>\n",
       "    <tr>\n",
       "      <th>2</th>\n",
       "      <td>ses olayı süper....gece çalıştır sıkıntı yok.....</td>\n",
       "      <td>Olumlu</td>\n",
       "      <td>1</td>\n",
       "      <td>ses olayı süpergece çalıştır sıkıntı yokkablo ...</td>\n",
       "    </tr>\n",
       "    <tr>\n",
       "      <th>3</th>\n",
       "      <td>geldi bigün kullandık hemen bozoldu hiçtavsiye...</td>\n",
       "      <td>Olumsuz</td>\n",
       "      <td>0</td>\n",
       "      <td>geldi bigün kullandık hemen bozoldu hiçtavsiye...</td>\n",
       "    </tr>\n",
       "    <tr>\n",
       "      <th>4</th>\n",
       "      <td>Kulaklığın sesi kaliteli falan değil. Aleti öv...</td>\n",
       "      <td>Olumsuz</td>\n",
       "      <td>0</td>\n",
       "      <td>kulaklığın sesi kaliteli aleti öve öve bitirem...</td>\n",
       "    </tr>\n",
       "    <tr>\n",
       "      <th>6</th>\n",
       "      <td>kullanisli baya</td>\n",
       "      <td>Olumlu</td>\n",
       "      <td>1</td>\n",
       "      <td>kullanisli baya</td>\n",
       "    </tr>\n",
       "  </tbody>\n",
       "</table>\n",
       "</div>"
      ],
      "text/plain": [
       "                                               Görüş    Durum  label  \\\n",
       "0  ses kalitesi ve ergonomisi rezalet, sony olduğ...  Olumsuz      0   \n",
       "2  ses olayı süper....gece çalıştır sıkıntı yok.....   Olumlu      1   \n",
       "3  geldi bigün kullandık hemen bozoldu hiçtavsiye...  Olumsuz      0   \n",
       "4  Kulaklığın sesi kaliteli falan değil. Aleti öv...  Olumsuz      0   \n",
       "6                                    kullanisli baya   Olumlu      1   \n",
       "\n",
       "                                               clean  \n",
       "0  ses kalitesi ergonomisi rezalet sony olduğu al...  \n",
       "2  ses olayı süpergece çalıştır sıkıntı yokkablo ...  \n",
       "3  geldi bigün kullandık hemen bozoldu hiçtavsiye...  \n",
       "4  kulaklığın sesi kaliteli aleti öve öve bitirem...  \n",
       "6                                    kullanisli baya  "
      ]
     },
     "execution_count": 17,
     "metadata": {},
     "output_type": "execute_result"
    }
   ],
   "source": [
    "df.head()\n"
   ]
  },
  {
   "cell_type": "code",
   "execution_count": 18,
   "metadata": {},
   "outputs": [],
   "source": [
    "X = df[\"clean\"].to_numpy()\n",
    "y = df[\"label\"].to_numpy()\n"
   ]
  },
  {
   "cell_type": "code",
   "execution_count": 19,
   "metadata": {},
   "outputs": [
    {
     "data": {
      "text/plain": [
       "array(['ses kalitesi ergonomisi rezalet sony olduğu aldım fiyatına çin replika ürün alsaydım iyiydi kesinlikle tavsiye etmiyorum',\n",
       "       'ses olayı süpergece çalıştır sıkıntı yokkablo uzun işinizi rahat ettirirçekme olayı derece güzel içiniz rahat olsundiğerlerini saymıyorum',\n",
       "       'geldi bigün kullandık hemen bozoldu hiçtavsiye etmem'],\n",
       "      dtype=object)"
      ]
     },
     "execution_count": 19,
     "metadata": {},
     "output_type": "execute_result"
    }
   ],
   "source": [
    "X[:3]\n"
   ]
  },
  {
   "cell_type": "code",
   "execution_count": 20,
   "metadata": {},
   "outputs": [
    {
     "name": "stdout",
     "output_type": "stream",
     "text": [
      "8489 8489\n"
     ]
    }
   ],
   "source": [
    "print(len(X), len(y))\n"
   ]
  },
  {
   "cell_type": "code",
   "execution_count": 21,
   "metadata": {},
   "outputs": [],
   "source": [
    "X_train, X_test, y_train, y_test = train_test_split(X, y, test_size=0.2)\n"
   ]
  },
  {
   "cell_type": "code",
   "execution_count": 22,
   "metadata": {},
   "outputs": [],
   "source": [
    "vectorizer = TfidfVectorizer()\n",
    "X_train = vectorizer.fit_transform(X_train)\n",
    "X_test = vectorizer.transform(X_test)\n"
   ]
  },
  {
   "cell_type": "code",
   "execution_count": 23,
   "metadata": {},
   "outputs": [
    {
     "data": {
      "text/html": [
       "<style>#sk-container-id-1 {color: black;background-color: white;}#sk-container-id-1 pre{padding: 0;}#sk-container-id-1 div.sk-toggleable {background-color: white;}#sk-container-id-1 label.sk-toggleable__label {cursor: pointer;display: block;width: 100%;margin-bottom: 0;padding: 0.3em;box-sizing: border-box;text-align: center;}#sk-container-id-1 label.sk-toggleable__label-arrow:before {content: \"▸\";float: left;margin-right: 0.25em;color: #696969;}#sk-container-id-1 label.sk-toggleable__label-arrow:hover:before {color: black;}#sk-container-id-1 div.sk-estimator:hover label.sk-toggleable__label-arrow:before {color: black;}#sk-container-id-1 div.sk-toggleable__content {max-height: 0;max-width: 0;overflow: hidden;text-align: left;background-color: #f0f8ff;}#sk-container-id-1 div.sk-toggleable__content pre {margin: 0.2em;color: black;border-radius: 0.25em;background-color: #f0f8ff;}#sk-container-id-1 input.sk-toggleable__control:checked~div.sk-toggleable__content {max-height: 200px;max-width: 100%;overflow: auto;}#sk-container-id-1 input.sk-toggleable__control:checked~label.sk-toggleable__label-arrow:before {content: \"▾\";}#sk-container-id-1 div.sk-estimator input.sk-toggleable__control:checked~label.sk-toggleable__label {background-color: #d4ebff;}#sk-container-id-1 div.sk-label input.sk-toggleable__control:checked~label.sk-toggleable__label {background-color: #d4ebff;}#sk-container-id-1 input.sk-hidden--visually {border: 0;clip: rect(1px 1px 1px 1px);clip: rect(1px, 1px, 1px, 1px);height: 1px;margin: -1px;overflow: hidden;padding: 0;position: absolute;width: 1px;}#sk-container-id-1 div.sk-estimator {font-family: monospace;background-color: #f0f8ff;border: 1px dotted black;border-radius: 0.25em;box-sizing: border-box;margin-bottom: 0.5em;}#sk-container-id-1 div.sk-estimator:hover {background-color: #d4ebff;}#sk-container-id-1 div.sk-parallel-item::after {content: \"\";width: 100%;border-bottom: 1px solid gray;flex-grow: 1;}#sk-container-id-1 div.sk-label:hover label.sk-toggleable__label {background-color: #d4ebff;}#sk-container-id-1 div.sk-serial::before {content: \"\";position: absolute;border-left: 1px solid gray;box-sizing: border-box;top: 0;bottom: 0;left: 50%;z-index: 0;}#sk-container-id-1 div.sk-serial {display: flex;flex-direction: column;align-items: center;background-color: white;padding-right: 0.2em;padding-left: 0.2em;position: relative;}#sk-container-id-1 div.sk-item {position: relative;z-index: 1;}#sk-container-id-1 div.sk-parallel {display: flex;align-items: stretch;justify-content: center;background-color: white;position: relative;}#sk-container-id-1 div.sk-item::before, #sk-container-id-1 div.sk-parallel-item::before {content: \"\";position: absolute;border-left: 1px solid gray;box-sizing: border-box;top: 0;bottom: 0;left: 50%;z-index: -1;}#sk-container-id-1 div.sk-parallel-item {display: flex;flex-direction: column;z-index: 1;position: relative;background-color: white;}#sk-container-id-1 div.sk-parallel-item:first-child::after {align-self: flex-end;width: 50%;}#sk-container-id-1 div.sk-parallel-item:last-child::after {align-self: flex-start;width: 50%;}#sk-container-id-1 div.sk-parallel-item:only-child::after {width: 0;}#sk-container-id-1 div.sk-dashed-wrapped {border: 1px dashed gray;margin: 0 0.4em 0.5em 0.4em;box-sizing: border-box;padding-bottom: 0.4em;background-color: white;}#sk-container-id-1 div.sk-label label {font-family: monospace;font-weight: bold;display: inline-block;line-height: 1.2em;}#sk-container-id-1 div.sk-label-container {text-align: center;}#sk-container-id-1 div.sk-container {/* jupyter's `normalize.less` sets `[hidden] { display: none; }` but bootstrap.min.css set `[hidden] { display: none !important; }` so we also need the `!important` here to be able to override the default hidden behavior on the sphinx rendered scikit-learn.org. See: https://github.com/scikit-learn/scikit-learn/issues/21755 */display: inline-block !important;position: relative;}#sk-container-id-1 div.sk-text-repr-fallback {display: none;}</style><div id=\"sk-container-id-1\" class=\"sk-top-container\"><div class=\"sk-text-repr-fallback\"><pre>DecisionTreeClassifier()</pre><b>In a Jupyter environment, please rerun this cell to show the HTML representation or trust the notebook. <br />On GitHub, the HTML representation is unable to render, please try loading this page with nbviewer.org.</b></div><div class=\"sk-container\" hidden><div class=\"sk-item\"><div class=\"sk-estimator sk-toggleable\"><input class=\"sk-toggleable__control sk-hidden--visually\" id=\"sk-estimator-id-1\" type=\"checkbox\" checked><label for=\"sk-estimator-id-1\" class=\"sk-toggleable__label sk-toggleable__label-arrow\">DecisionTreeClassifier</label><div class=\"sk-toggleable__content\"><pre>DecisionTreeClassifier()</pre></div></div></div></div></div>"
      ],
      "text/plain": [
       "DecisionTreeClassifier()"
      ]
     },
     "execution_count": 23,
     "metadata": {},
     "output_type": "execute_result"
    }
   ],
   "source": [
    "clf = DecisionTreeClassifier()\n",
    "clf.fit(X_train, y_train)\n"
   ]
  },
  {
   "cell_type": "code",
   "execution_count": 24,
   "metadata": {},
   "outputs": [
    {
     "data": {
      "text/plain": [
       "0.797997644287397"
      ]
     },
     "execution_count": 24,
     "metadata": {},
     "output_type": "execute_result"
    }
   ],
   "source": [
    "clf.score(X_test, y_test)\n"
   ]
  },
  {
   "cell_type": "code",
   "execution_count": 25,
   "metadata": {},
   "outputs": [],
   "source": [
    "# modeli diske kaydetme\n",
    "with open(\"tree.pkl\", \"wb\") as f:\n",
    "    pickle.dump(clf, f)\n",
    "\n",
    "# vektörleştiriciyi diske kaydetme\n",
    "with open(\"vectorizer.pkl\", \"wb\") as f:\n",
    "    pickle.dump(vectorizer, f)\n"
   ]
  },
  {
   "cell_type": "code",
   "execution_count": 26,
   "metadata": {},
   "outputs": [],
   "source": [
    "# modeli diskten geri getirme\n",
    "clf_loaded = None\n",
    "with open(\"tree.pkl\", \"rb\") as f:\n",
    "    clf_loaded = pickle.load(f)\n",
    "\n",
    "# vektörleştiriciyi diskten geri getirme\n",
    "vectorizer_loaded = None\n",
    "with open(\"vectorizer.pkl\", \"rb\") as f:\n",
    "    vectorizer_loaded = pickle.load(f)\n"
   ]
  },
  {
   "cell_type": "code",
   "execution_count": 28,
   "metadata": {},
   "outputs": [
    {
     "data": {
      "text/plain": [
       "array([1])"
      ]
     },
     "execution_count": 28,
     "metadata": {},
     "output_type": "execute_result"
    }
   ],
   "source": [
    "# 1: Olumlu\n",
    "# 0: olumsuz\n",
    "test_str = [clean_text(\"Her şey çok güzeldi! Çok memnun kaldım.\")]\n",
    "test_str_vec = vectorizer_loaded.transform(test_str)\n",
    "clf_loaded.predict(test_str_vec)\n"
   ]
  },
  {
   "cell_type": "code",
   "execution_count": 30,
   "metadata": {},
   "outputs": [
    {
     "data": {
      "text/plain": [
       "array([0, 1])"
      ]
     },
     "execution_count": 30,
     "metadata": {},
     "output_type": "execute_result"
    }
   ],
   "source": [
    "cumleler = [\n",
    "    \"Çok kötü bit ürün... Asla tavsiye etmiyorum!\",\n",
    "    \"Mükemmel ötesi muhteşemlikte :-)\"\n",
    "]\n",
    "\n",
    "cumleler = [clean_text(s) for s in cumleler]\n",
    "\n",
    "cumleler_vec = vectorizer_loaded.transform(cumleler)\n",
    "clf_loaded.predict(cumleler_vec)"
   ]
  }
 ],
 "metadata": {
  "kernelspec": {
   "display_name": "tfnew",
   "language": "python",
   "name": "python3"
  },
  "language_info": {
   "codemirror_mode": {
    "name": "ipython",
    "version": 3
   },
   "file_extension": ".py",
   "mimetype": "text/x-python",
   "name": "python",
   "nbconvert_exporter": "python",
   "pygments_lexer": "ipython3",
   "version": "3.9.16"
  },
  "orig_nbformat": 4,
  "vscode": {
   "interpreter": {
    "hash": "93a508892ad0418bbbef2f3796edd4c06527622cb95cdcc5e9525e8332085ac2"
   }
  }
 },
 "nbformat": 4,
 "nbformat_minor": 2
}
