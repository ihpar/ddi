{
 "cells": [
  {
   "cell_type": "code",
   "execution_count": null,
   "metadata": {},
   "outputs": [],
   "source": [
    "# !pip install simplemma"
   ]
  },
  {
   "cell_type": "code",
   "execution_count": null,
   "metadata": {},
   "outputs": [],
   "source": [
    "from simplemma import text_lemmatizer\n",
    "import pandas as pd\n",
    "import numpy as np\n",
    "import ast\n",
    "import re"
   ]
  },
  {
   "cell_type": "markdown",
   "metadata": {},
   "source": [
    "Veri seti ön işleme\n"
   ]
  },
  {
   "cell_type": "code",
   "execution_count": null,
   "metadata": {},
   "outputs": [],
   "source": [
    "# stop word ayıklaması yapmayan metin temizleme fonk.\n",
    "def clean_text(text):\n",
    "    text = text.replace(\"Â\", \"a\")\n",
    "    text = text.replace(\"â\", \"a\")\n",
    "    text = text.replace(\"î\", \"i\")\n",
    "    text = text.replace(\"Î\", \"ı\")\n",
    "    text = text.replace(\"İ\", \"i\")\n",
    "    text = text.replace(\"I\", \"ı\")\n",
    "    text = text.replace(u\"\\u00A0\", \" \")\n",
    "    text = text.replace(\"|\", \" \")\n",
    "\n",
    "    text = re.sub(r\"@[A-Za-z0-9]+\", \" \", text)\n",
    "    text = re.sub(r\"(.)\\1+\", r\"\\1\\1\", text)\n",
    "    text = re.sub(r\"https?:\\/\\/\\S+\", \" \", text)\n",
    "    text = re.sub(r\"http?:\\/\\/\\S+\", \" \", text)\n",
    "    text = re.sub(r\"\\n\", \" \", text)\n",
    "    text = re.sub(r\"#(\\w+)\", \" \", text)\n",
    "    text = re.sub(r\"^\\x00-\\x7F]+\", \" \", text)\n",
    "    text = re.sub(r\"[^A-Za-zâîığüşöçİĞÜŞÖÇ]+\", \" \", text)\n",
    "    text = re.sub(r\"((https://[^\\s]+))\", \" \", text)\n",
    "    text = \" \".join(text.lower().strip().split())\n",
    "\n",
    "    return \" \".join(text_lemmatizer(text, lang=\"tr\"))"
   ]
  },
  {
   "cell_type": "code",
   "execution_count": null,
   "metadata": {},
   "outputs": [],
   "source": [
    "clean_text(\"Hey! Naber???İyilik, senden... Ben de iyiyim.Çocuk filmi Kirpi Sonic filminin devam halkası olan yapımda, insan biçiminde bir kirpi olan Sonic'in atıldığı maceralar konu ediliyor.\")"
   ]
  },
  {
   "cell_type": "code",
   "execution_count": null,
   "metadata": {},
   "outputs": [],
   "source": [
    "df = pd.read_excel(\"filmveriseti.xlsx\")\n",
    "df.head()"
   ]
  },
  {
   "cell_type": "code",
   "execution_count": null,
   "metadata": {},
   "outputs": [],
   "source": [
    "df[\"tur_list\"] = df[\"tur\"].apply(ast.literal_eval)\n",
    "df.head()"
   ]
  },
  {
   "cell_type": "code",
   "execution_count": null,
   "metadata": {},
   "outputs": [],
   "source": [
    "def clean_row(row):\n",
    "    ozet = clean_text(row[\"ozet ve detaylar\"])\n",
    "    tur = clean_text(\" \".join(row[\"tur_list\"]))\n",
    "    return ozet + \" \" + tur"
   ]
  },
  {
   "cell_type": "code",
   "execution_count": null,
   "metadata": {},
   "outputs": [],
   "source": [
    "clean_row(df.iloc[1])"
   ]
  },
  {
   "cell_type": "code",
   "execution_count": null,
   "metadata": {},
   "outputs": [],
   "source": [
    "df[\"clean\"] = df.apply(lambda row: clean_row(row), axis=1)\n",
    "df.head()"
   ]
  },
  {
   "cell_type": "code",
   "execution_count": null,
   "metadata": {},
   "outputs": [],
   "source": [
    "filmler = df[\"clean\"].values\n",
    "print(filmler[:3])"
   ]
  },
  {
   "cell_type": "markdown",
   "metadata": {},
   "source": [
    "Sözlük (Vocab) oluşturma\n"
   ]
  },
  {
   "cell_type": "code",
   "execution_count": null,
   "metadata": {},
   "outputs": [],
   "source": [
    "word2idx = {}\n",
    "i = 0\n",
    "\n",
    "for film in filmler:\n",
    "    for sozcuk in film.split():\n",
    "        if sozcuk not in word2idx:\n",
    "            word2idx[sozcuk] = i\n",
    "            i += 1"
   ]
  },
  {
   "cell_type": "code",
   "execution_count": null,
   "metadata": {},
   "outputs": [],
   "source": [
    "word2idx"
   ]
  },
  {
   "cell_type": "markdown",
   "metadata": {},
   "source": [
    "TF matrisi oluşturma\n"
   ]
  },
  {
   "cell_type": "code",
   "execution_count": null,
   "metadata": {},
   "outputs": [],
   "source": [
    "film_sayisi = len(filmler)\n",
    "sozluk_buyuklugu = len(word2idx)\n",
    "\n",
    "print(film_sayisi, sozluk_buyuklugu)"
   ]
  },
  {
   "cell_type": "code",
   "execution_count": null,
   "metadata": {},
   "outputs": [],
   "source": [
    "tf = np.zeros((film_sayisi, sozluk_buyuklugu))\n",
    "\n",
    "for i, film in enumerate(filmler):\n",
    "    for sozcuk in film.split():\n",
    "        tf[i, word2idx[sozcuk]] += 1 # sözcük sayma\n",
    "\n",
    "    tf[i] = tf[i] / len(film.split()) # normalizasyon\n",
    "\n",
    "print(tf[0])"
   ]
  },
  {
   "cell_type": "markdown",
   "metadata": {},
   "source": [
    "IDF vektörü oluşturma\n"
   ]
  },
  {
   "cell_type": "code",
   "execution_count": null,
   "metadata": {},
   "outputs": [],
   "source": [
    "# Örnek\n",
    "toy_tf = np.array([\n",
    "    [0.5, 0.0, 0.0, 0.5],\n",
    "    [0.0, 0.0, 0.5, 0.5],\n",
    "    [0.0, 0.1, 0.0, 0.9],\n",
    "    [0.3, 0.0, 0.1, 0.6],\n",
    "    [0.7, 0.0, 0.0, 0.3],\n",
    "])\n",
    "\n",
    "toy_doc_freq = np.sum(toy_tf > 0, axis=0)\n",
    "toy_doc_freq"
   ]
  },
  {
   "cell_type": "code",
   "execution_count": null,
   "metadata": {},
   "outputs": [],
   "source": [
    "toy_idf = 5 / toy_doc_freq\n",
    "print(toy_idf)\n",
    "toy_idf = np.log(toy_idf)\n",
    "print(toy_idf)"
   ]
  },
  {
   "cell_type": "code",
   "execution_count": null,
   "metadata": {},
   "outputs": [],
   "source": [
    "# gerçek hesaplama kısmı\n",
    "doc_freq = np.sum(tf > 0, axis=0)\n",
    "print(doc_freq)\n",
    "\n",
    "idf = np.log(film_sayisi / doc_freq)\n",
    "print(idf)"
   ]
  },
  {
   "cell_type": "markdown",
   "metadata": {},
   "source": [
    "TF-IDF matrisi oluşturma\n"
   ]
  },
  {
   "cell_type": "code",
   "execution_count": null,
   "metadata": {},
   "outputs": [],
   "source": [
    "tf_idf = tf * idf"
   ]
  },
  {
   "cell_type": "markdown",
   "metadata": {},
   "source": [
    "Benzerlik hesaplama ve sorgular\n"
   ]
  },
  {
   "cell_type": "code",
   "execution_count": null,
   "metadata": {},
   "outputs": [],
   "source": [
    "def cos_sim(v1, v2):\n",
    "    return np.dot(v1, v2) / (np.linalg.norm(v1) * np.linalg.norm(v2))"
   ]
  },
  {
   "cell_type": "code",
   "execution_count": null,
   "metadata": {},
   "outputs": [],
   "source": [
    "def film2str(row_index):\n",
    "    film = df.iloc[row_index]\n",
    "    adi = film[\"film adi\"]\n",
    "    turu = \", \".join(film[\"tur_list\"])\n",
    "    ozet = re.sub(r\"\\n+\", \"\\n\", film[\"ozet ve detaylar\"]).strip()\n",
    "    if len(ozet) > 150:\n",
    "        ozet = ozet[:150] + \"...\"\n",
    "\n",
    "    return f\"Film adı: {adi} \\nTürü: {turu} \\nÖzeti: {ozet}\"\n",
    "\n",
    "\n",
    "print(film2str(3))"
   ]
  },
  {
   "cell_type": "code",
   "execution_count": null,
   "metadata": {},
   "outputs": [],
   "source": [
    "def benzerlerini_bul(film_adi, benzer_film_sayisi):\n",
    "    film_indexi = df[df[\"film adi\"] == film_adi].index[0]\n",
    "    print(\"Aranan Film:\")\n",
    "    print(film2str(film_indexi))\n",
    "    print()\n",
    "    print(\"* \" * 30)\n",
    "    print()\n",
    "\n",
    "    benzerlikler = []\n",
    "    sorgu_film = tf_idf[film_indexi]\n",
    "    for vec in tf_idf:\n",
    "        benzerlik = cos_sim(sorgu_film, vec)\n",
    "        benzerlikler.append(benzerlik)\n",
    "\n",
    "    en_benzer_film_indexleri = (- np.array(benzerlikler)\n",
    "                                ).argsort()[:benzer_film_sayisi + 1]\n",
    "    print(\"Benzer Filmler:\\n\")\n",
    "    for i, film_idx in enumerate(en_benzer_film_indexleri[1:]):\n",
    "        print(str(i+1) + \") \" + film2str(film_idx))\n",
    "        print()\n",
    "        print(\"- \" * 20)\n",
    "        print()"
   ]
  },
  {
   "cell_type": "code",
   "execution_count": null,
   "metadata": {},
   "outputs": [],
   "source": [
    "benzerlerini_bul(\"Kirpi Sonic 2\", 3)"
   ]
  }
 ],
 "metadata": {
  "kernelspec": {
   "display_name": "tfnew",
   "language": "python",
   "name": "python3"
  },
  "language_info": {
   "codemirror_mode": {
    "name": "ipython",
    "version": 3
   },
   "file_extension": ".py",
   "mimetype": "text/x-python",
   "name": "python",
   "nbconvert_exporter": "python",
   "pygments_lexer": "ipython3",
   "version": "3.9.16"
  }
 },
 "nbformat": 4,
 "nbformat_minor": 2
}
