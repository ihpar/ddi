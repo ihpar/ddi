{
 "cells": [
  {
   "cell_type": "code",
   "execution_count": null,
   "metadata": {},
   "outputs": [],
   "source": [
    "# !pip install nltk"
   ]
  },
  {
   "cell_type": "code",
   "execution_count": null,
   "metadata": {},
   "outputs": [],
   "source": [
    "# !pip install zeyrek"
   ]
  },
  {
   "cell_type": "code",
   "execution_count": null,
   "metadata": {},
   "outputs": [],
   "source": [
    "# !pip install TurkishStemmer"
   ]
  },
  {
   "cell_type": "code",
   "execution_count": null,
   "metadata": {},
   "outputs": [],
   "source": [
    "import nltk\n",
    "import zeyrek # https://github.com/obulat/zeyrek\n",
    "from TurkishStemmer import TurkishStemmer # https://github.com/otuncelli/turkish-stemmer-python"
   ]
  },
  {
   "cell_type": "code",
   "execution_count": null,
   "metadata": {},
   "outputs": [],
   "source": [
    "nltk.download(\"punkt\")"
   ]
  },
  {
   "cell_type": "code",
   "execution_count": null,
   "metadata": {},
   "outputs": [],
   "source": [
    "analyzer = zeyrek.MorphAnalyzer()"
   ]
  },
  {
   "cell_type": "code",
   "execution_count": null,
   "metadata": {},
   "outputs": [],
   "source": [
    "analyzer.lemmatize(\"benimkilerden\")"
   ]
  },
  {
   "cell_type": "code",
   "execution_count": null,
   "metadata": {},
   "outputs": [],
   "source": [
    "stemmer = TurkishStemmer()"
   ]
  },
  {
   "cell_type": "code",
   "execution_count": null,
   "metadata": {},
   "outputs": [],
   "source": [
    "stemmer.stem(\"benimkilerden\")"
   ]
  },
  {
   "cell_type": "code",
   "execution_count": null,
   "metadata": {},
   "outputs": [],
   "source": [
    "cumle = \"Dönülmez akşamın ufkundayım.\""
   ]
  },
  {
   "cell_type": "code",
   "execution_count": null,
   "metadata": {},
   "outputs": [],
   "source": [
    "stemmer.stem(cumle)"
   ]
  },
  {
   "cell_type": "code",
   "execution_count": null,
   "metadata": {},
   "outputs": [],
   "source": [
    "analyzer.lemmatize(cumle)"
   ]
  },
  {
   "cell_type": "code",
   "execution_count": null,
   "metadata": {},
   "outputs": [],
   "source": [
    "for kelime in cumle.split():\n",
    "    print(stemmer.stem(kelime))"
   ]
  },
  {
   "cell_type": "code",
   "execution_count": null,
   "metadata": {},
   "outputs": [],
   "source": [
    "import pandas as pd"
   ]
  },
  {
   "cell_type": "code",
   "execution_count": null,
   "metadata": {},
   "outputs": [],
   "source": [
    "# !pip install openpyxl"
   ]
  },
  {
   "cell_type": "code",
   "execution_count": null,
   "metadata": {},
   "outputs": [],
   "source": [
    "df = pd.read_excel(\"filmveriseti.xlsx\") \n",
    "# https://www.kaggle.com/code/furkanyeter/content-based-recommendation-system-turkish-movie/data\n",
    "df.head()"
   ]
  },
  {
   "cell_type": "code",
   "execution_count": null,
   "metadata": {},
   "outputs": [],
   "source": [
    "len(df)"
   ]
  },
  {
   "cell_type": "code",
   "execution_count": null,
   "metadata": {},
   "outputs": [],
   "source": [
    "df[\"tur\"].unique()"
   ]
  },
  {
   "cell_type": "code",
   "execution_count": null,
   "metadata": {},
   "outputs": [],
   "source": [
    "df.info()"
   ]
  },
  {
   "cell_type": "code",
   "execution_count": null,
   "metadata": {},
   "outputs": [],
   "source": [
    "df.isna().sum()"
   ]
  },
  {
   "cell_type": "code",
   "execution_count": null,
   "metadata": {},
   "outputs": [],
   "source": [
    "nltk.download(\"stopwords\")"
   ]
  },
  {
   "cell_type": "code",
   "execution_count": null,
   "metadata": {},
   "outputs": [],
   "source": [
    "import string\n",
    "from nltk.corpus import stopwords"
   ]
  },
  {
   "cell_type": "code",
   "execution_count": null,
   "metadata": {},
   "outputs": [],
   "source": [
    "string.punctuation"
   ]
  },
  {
   "cell_type": "code",
   "execution_count": null,
   "metadata": {},
   "outputs": [],
   "source": [
    "dolgular = stopwords.words(\"turkish\")\n",
    "dolgular"
   ]
  },
  {
   "cell_type": "code",
   "execution_count": null,
   "metadata": {},
   "outputs": [],
   "source": [
    "s = \"Hey! Naber? İyilik, senden... Ben de iyiyim.\"\n",
    "s = s.translate(str.maketrans ('', '', string.punctuation))"
   ]
  },
  {
   "cell_type": "code",
   "execution_count": null,
   "metadata": {},
   "outputs": [],
   "source": [
    "s"
   ]
  },
  {
   "cell_type": "code",
   "execution_count": null,
   "metadata": {},
   "outputs": [],
   "source": [
    "analiz = analyzer.lemmatize(s)\n",
    "analiz"
   ]
  },
  {
   "cell_type": "code",
   "execution_count": null,
   "metadata": {},
   "outputs": [],
   "source": [
    "for el in analiz:\n",
    "    print(el[1][-1])"
   ]
  },
  {
   "cell_type": "code",
   "execution_count": null,
   "metadata": {},
   "outputs": [],
   "source": [
    "ornek = df.iloc[13][\"ozet ve detaylar\"]\n",
    "ornek"
   ]
  },
  {
   "cell_type": "code",
   "execution_count": null,
   "metadata": {},
   "outputs": [],
   "source": [
    "ornek.translate(str.maketrans ('', '', string.punctuation))"
   ]
  },
  {
   "cell_type": "code",
   "execution_count": null,
   "metadata": {},
   "outputs": [],
   "source": [
    "ornek = \"film,çok güzel.tavsiye ederim.\"\n",
    "ornek.translate(str.maketrans ('', '', string.punctuation))"
   ]
  },
  {
   "cell_type": "code",
   "execution_count": null,
   "metadata": {},
   "outputs": [],
   "source": [
    "from nltk.tokenize import RegexpTokenizer\n",
    "\n",
    "tokenizer = RegexpTokenizer(r\"\\w+\")\n",
    "tokenizer.tokenize(ornek)"
   ]
  },
  {
   "cell_type": "code",
   "execution_count": null,
   "metadata": {},
   "outputs": [],
   "source": [
    "def clean_doc(doc, tok):\n",
    "    \"\"\"\n",
    "    Args:\n",
    "        doc (str): Köklerine ayrılacak doküman.\n",
    "        tok (RegexpTokenizer): Instance of RegexpTokenizer from nltk.tokenize.\n",
    "\n",
    "    Returns:\n",
    "        [str]: List of lemmatized words from the doc argument without punctuation and stop words.\n",
    "    \n",
    "    Ex: clean_doc(\"film,çok güzel.tavsiye ederim.\", tokenizer) -> ['film', 'güzel', 'tavsiye', 'eder']\n",
    "    \"\"\"\n",
    "    tokens = tok.tokenize(doc) # doc'ları kelimelere ayır, noktalama işaretlerini çıkar\n",
    "    clean_tokens = [tok for tok in tokens if tok not in dolgular] # stop word'leri ayıkla\n",
    "    analiz = analyzer.lemmatize(\" \".join(clean_tokens)) # token'ları ayıkla\n",
    "    return [el[1][-1] for el in analiz] # temizlenmiş token'ları liste olarak döndür"
   ]
  },
  {
   "cell_type": "code",
   "execution_count": null,
   "metadata": {},
   "outputs": [],
   "source": [
    "tokenizer = RegexpTokenizer(r\"\\w+\")\n",
    "clean_doc(ornek, tokenizer)"
   ]
  },
  {
   "cell_type": "code",
   "execution_count": null,
   "metadata": {},
   "outputs": [],
   "source": [
    "df.head()"
   ]
  },
  {
   "cell_type": "code",
   "execution_count": null,
   "metadata": {},
   "outputs": [],
   "source": [
    "# bu işlem uzun sürebilir\n",
    "# uzayda bir kavanozun kapağını açıp kapattığınızda ve kavanozu Ay'a doğru\n",
    "# fırlattığınızda kavanoz içindeki boşluk hareket eder mi?\n",
    "import ast\n",
    "\n",
    "def extract_features(row, tokenizer):\n",
    "    ozet = clean_doc(row[\"ozet ve detaylar\"], tokenizer)\n",
    "    tur = row[\"tur\"]\n",
    "    return ozet + ast.literal_eval(tur)\n",
    "\n",
    "df[\"clean\"] = df.apply(lambda row: extract_features(row, tokenizer), axis=1) "
   ]
  },
  {
   "cell_type": "code",
   "execution_count": null,
   "metadata": {},
   "outputs": [],
   "source": [
    "df.head()"
   ]
  },
  {
   "cell_type": "code",
   "execution_count": null,
   "metadata": {},
   "outputs": [],
   "source": [
    "import random\n",
    "for i in range(3):\n",
    "    rand_idx = random.randrange(len(df))\n",
    "    ozet = df.iloc[rand_idx][\"ozet ve detaylar\"]\n",
    "    print(\"Orijinal:\")\n",
    "    print(ozet + \"\\n\")\n",
    "    print(\"Temizlenmiş:\")\n",
    "    print(\" \".join(df.iloc[rand_idx][\"clean\"]) + \"\\n\")  \n",
    "    print(\"/\" * 50 + \"\\n\")  "
   ]
  },
  {
   "cell_type": "code",
   "execution_count": null,
   "metadata": {},
   "outputs": [],
   "source": [
    "df.to_csv(\"filmler_clean.csv\", index=False)"
   ]
  },
  {
   "cell_type": "code",
   "execution_count": null,
   "metadata": {},
   "outputs": [],
   "source": [
    "df_diskten = pd.read_csv(\"filmler_clean.csv\")"
   ]
  },
  {
   "cell_type": "code",
   "execution_count": null,
   "metadata": {},
   "outputs": [],
   "source": [
    "df_diskten.head()"
   ]
  },
  {
   "cell_type": "code",
   "execution_count": null,
   "metadata": {},
   "outputs": [],
   "source": [
    "kelime2index = {}\n",
    "index2kelime = {}"
   ]
  },
  {
   "cell_type": "code",
   "execution_count": null,
   "metadata": {},
   "outputs": [],
   "source": [
    "kelime2index[\"<UNK>\"] = 0\n",
    "index2kelime[0] = \"<UNK>\""
   ]
  },
  {
   "cell_type": "code",
   "execution_count": null,
   "metadata": {},
   "outputs": [],
   "source": [
    "clean_col = df[\"clean\"]\n",
    "clean_col"
   ]
  },
  {
   "cell_type": "code",
   "execution_count": null,
   "metadata": {},
   "outputs": [],
   "source": [
    "len(clean_col.values), len(df)"
   ]
  },
  {
   "cell_type": "code",
   "execution_count": null,
   "metadata": {},
   "outputs": [],
   "source": [
    "i = 1\n",
    "for doc in clean_col.values:\n",
    "    for token in doc:\n",
    "        if token in kelime2index:\n",
    "            continue\n",
    "        \n",
    "        kelime2index[token] = i\n",
    "        index2kelime[i] = token\n",
    "        i += 1"
   ]
  },
  {
   "cell_type": "code",
   "execution_count": null,
   "metadata": {},
   "outputs": [],
   "source": [
    "kelime2index"
   ]
  },
  {
   "cell_type": "code",
   "execution_count": null,
   "metadata": {},
   "outputs": [],
   "source": [
    "index2kelime"
   ]
  },
  {
   "cell_type": "code",
   "execution_count": null,
   "metadata": {},
   "outputs": [],
   "source": [
    "len(kelime2index)"
   ]
  },
  {
   "cell_type": "code",
   "execution_count": null,
   "metadata": {},
   "outputs": [],
   "source": [
    "import numpy as np"
   ]
  },
  {
   "cell_type": "code",
   "execution_count": null,
   "metadata": {},
   "outputs": [],
   "source": [
    "doc_mat = np.zeros((len(df), len(kelime2index)))"
   ]
  },
  {
   "cell_type": "code",
   "execution_count": null,
   "metadata": {},
   "outputs": [],
   "source": [
    "for i, doc in enumerate(clean_col.values):\n",
    "    for token in doc:\n",
    "        token_index = kelime2index[token]\n",
    "        doc_mat[i][token_index] += 1"
   ]
  },
  {
   "cell_type": "code",
   "execution_count": null,
   "metadata": {},
   "outputs": [],
   "source": [
    "doc_mat[0]"
   ]
  },
  {
   "cell_type": "code",
   "execution_count": null,
   "metadata": {},
   "outputs": [],
   "source": [
    "def cos_sim(v1, v2):\n",
    "    return np.dot(v1, v2) / (np.linalg.norm(v1) * np.linalg.norm(v2))"
   ]
  },
  {
   "cell_type": "code",
   "execution_count": null,
   "metadata": {},
   "outputs": [],
   "source": [
    "# sorgular\n",
    "random.seed(42) # otostopçunun galaksi rehberi\n",
    "film_indexi = random.randrange(len(df))\n",
    "film = df.iloc[film_indexi]\n",
    "film[\"film adi\"], film[\"ozet ve detaylar\"], film[\"tur\"]"
   ]
  },
  {
   "cell_type": "code",
   "execution_count": null,
   "metadata": {},
   "outputs": [],
   "source": [
    "benzerlikler = []\n",
    "sorgu_film = doc_mat[film_indexi]\n",
    "for vec in doc_mat:\n",
    "    benzerlik = cos_sim(sorgu_film, vec)\n",
    "    benzerlikler.append(benzerlik)"
   ]
  },
  {
   "cell_type": "code",
   "execution_count": null,
   "metadata": {},
   "outputs": [],
   "source": [
    "test_list = [1, 5, 4, 2]\n",
    "print(np.array(test_list).argsort()[:2])\n",
    "print((- np.array(test_list)).argsort()[:2])"
   ]
  },
  {
   "cell_type": "code",
   "execution_count": null,
   "metadata": {},
   "outputs": [],
   "source": [
    "# en yakın 5 film\n",
    "top5_film_indexleri = (- np.array(benzerlikler)).argsort()[:5]"
   ]
  },
  {
   "cell_type": "code",
   "execution_count": null,
   "metadata": {},
   "outputs": [],
   "source": [
    "for i in top5_film_indexleri:\n",
    "    film = df.iloc[i]\n",
    "    print(film[\"film adi\"], film[\"ozet ve detaylar\"], film[\"tur\"])\n",
    "    print(\" - \" * 20)"
   ]
  },
  {
   "cell_type": "code",
   "execution_count": null,
   "metadata": {},
   "outputs": [],
   "source": [
    "def print_film(row_index):\n",
    "    film = df.iloc[row_index]\n",
    "    adi = film['film adi']\n",
    "    turu = \", \".join(ast.literal_eval(film['tur']))\n",
    "    ozet = film['ozet ve detaylar']\n",
    "    if len(ozet) > 150:\n",
    "        ozet = ozet[:150] + \"...\"\n",
    "\n",
    "    print(f\"Film adı: {adi} \\nTürü: {turu} \\nÖzeti: {ozet}\")"
   ]
  },
  {
   "cell_type": "code",
   "execution_count": null,
   "metadata": {},
   "outputs": [],
   "source": [
    "def benzerlerini_bul(film_adi, benzer_film_sayisi):\n",
    "    film_indexi = df[df[\"film adi\"] == film_adi].index[0]\n",
    "    print(\"Aranan Film:\")\n",
    "    print_film(film_indexi)\n",
    "    print(\" * \" * 20)\n",
    "    print(\" * \" * 20)\n",
    "\n",
    "    benzerlikler = []\n",
    "    sorgu_film = doc_mat[film_indexi]\n",
    "    for vec in doc_mat:\n",
    "        benzerlik = cos_sim(sorgu_film, vec)\n",
    "        benzerlikler.append(benzerlik)\n",
    "    \n",
    "    en_benzer_film_indexleri = (- np.array(benzerlikler)).argsort()[:benzer_film_sayisi + 1]\n",
    "    print(\"Benzer Filmler:\\n\")\n",
    "    for i in en_benzer_film_indexleri[1:]:\n",
    "        print_film(i)\n",
    "        print(\" - \" * 20)\n",
    "        print(\" - \" * 20)"
   ]
  },
  {
   "cell_type": "code",
   "execution_count": null,
   "metadata": {},
   "outputs": [],
   "source": [
    "benzerlerini_bul(\"Kirpi Sonic 2\", 3)"
   ]
  },
  {
   "cell_type": "markdown",
   "metadata": {},
   "source": [
    "İyileştirme için neler yapılabilir? (diğer sütunlar? sütun ağırlıkları?)"
   ]
  },
  {
   "cell_type": "code",
   "execution_count": null,
   "metadata": {},
   "outputs": [],
   "source": [
    "df.head()"
   ]
  }
 ],
 "metadata": {
  "kernelspec": {
   "display_name": "Python 3.9.13 ('tfnew')",
   "language": "python",
   "name": "python3"
  },
  "language_info": {
   "codemirror_mode": {
    "name": "ipython",
    "version": 3
   },
   "file_extension": ".py",
   "mimetype": "text/x-python",
   "name": "python",
   "nbconvert_exporter": "python",
   "pygments_lexer": "ipython3",
   "version": "3.9.13"
  },
  "orig_nbformat": 4,
  "vscode": {
   "interpreter": {
    "hash": "93a508892ad0418bbbef2f3796edd4c06527622cb95cdcc5e9525e8332085ac2"
   }
  }
 },
 "nbformat": 4,
 "nbformat_minor": 2
}
