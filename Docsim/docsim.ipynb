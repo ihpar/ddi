{
 "cells": [
  {
   "cell_type": "code",
   "execution_count": 2,
   "id": "ce3291ea",
   "metadata": {},
   "outputs": [],
   "source": [
    "import numpy as np"
   ]
  },
  {
   "cell_type": "code",
   "execution_count": 3,
   "id": "09bbbe2b",
   "metadata": {},
   "outputs": [],
   "source": [
    "dosya_adlari = [\n",
    "    \"d1.txt\",\n",
    "    \"d2.txt\",\n",
    "    \"d3.txt\",\n",
    "    \"d4.txt\"\n",
    "]"
   ]
  },
  {
   "cell_type": "code",
   "execution_count": null,
   "id": "2cad6697",
   "metadata": {},
   "outputs": [
    {
     "name": "stdout",
     "output_type": "stream",
     "text": [
      "{'<unk>': 0, 'a': 1, 'b': 2, 'c': 3, 'd': 4}\n"
     ]
    }
   ],
   "source": [
    "w2i = {\"<unk>\": 0}\n",
    "i = 1\n",
    "for dosya_adi in dosya_adlari:\n",
    "    with open(dosya_adi, \"r\") as in_file:\n",
    "        lines = in_file.readlines()\n",
    "        line = lines[0]\n",
    "        tokens = line.split()\n",
    "        for token in tokens:\n",
    "            if token not in w2i:\n",
    "                w2i[token] = i\n",
    "                i += 1\n",
    "\n",
    "print(w2i)"
   ]
  },
  {
   "cell_type": "code",
   "execution_count": null,
   "id": "7a08a29c",
   "metadata": {},
   "outputs": [
    {
     "name": "stdout",
     "output_type": "stream",
     "text": [
      "[[0. 6. 2. 0. 0.]\n",
      " [0. 3. 2. 2. 0.]\n",
      " [0. 3. 3. 2. 0.]\n",
      " [0. 0. 1. 2. 3.]]\n"
     ]
    }
   ],
   "source": [
    "voc_size = len(w2i)\n",
    "doc_mat = np.zeros((len(dosya_adlari), voc_size))\n",
    "\n",
    "for i, dosya_adi in enumerate(dosya_adlari):\n",
    "\n",
    "    with open(dosya_adi, \"r\") as in_file:\n",
    "        lines = in_file.readlines()\n",
    "        line = lines[0]\n",
    "        tokens = line.split()\n",
    "        for token in tokens:\n",
    "            if token in w2i:\n",
    "                token_index = w2i[token]\n",
    "                doc_mat[i][token_index] += 1\n",
    "\n",
    "print(doc_mat)"
   ]
  },
  {
   "cell_type": "code",
   "execution_count": null,
   "id": "6b2fb2ca",
   "metadata": {},
   "outputs": [
    {
     "data": {
      "text/plain": [
       "np.int64(23)"
      ]
     },
     "execution_count": 10,
     "metadata": {},
     "output_type": "execute_result"
    }
   ],
   "source": [
    "def dot_prod(v1, v2):\n",
    "    \"\"\" \n",
    "    v1: [1, 3]; v2: [2, 7]\n",
    "    v1 . v2 = 1*2 + 3*7 ->23\n",
    "    \"\"\"\n",
    "    toplam = 0\n",
    "    for v1_i, v2_i in zip(v1, v2):\n",
    "        carpim = v1_i * v2_i\n",
    "        toplam += carpim\n",
    "\n",
    "    return toplam\n",
    "\n",
    "\n",
    "dot_prod(np.array([1, 3]), np.array([2, 7]))"
   ]
  },
  {
   "cell_type": "code",
   "execution_count": null,
   "id": "92afabb5",
   "metadata": {},
   "outputs": [
    {
     "data": {
      "text/plain": [
       "np.float64(5.0)"
      ]
     },
     "execution_count": 11,
     "metadata": {},
     "output_type": "execute_result"
    }
   ],
   "source": [
    "def vec_norm(v):\n",
    "    \"\"\" \n",
    "    v: [3, 4, 0] -> 5\n",
    "    \"\"\"\n",
    "    toplam = 0\n",
    "    for v_i in v:\n",
    "        toplam += v_i ** 2\n",
    "\n",
    "    return np.sqrt(toplam)\n",
    "\n",
    "\n",
    "vec_norm(np.array([3, 4, 0]))"
   ]
  },
  {
   "cell_type": "code",
   "execution_count": null,
   "id": "87091719",
   "metadata": {},
   "outputs": [
    {
     "name": "stdout",
     "output_type": "stream",
     "text": [
      "0.9999999999999998\n",
      "-0.9999999999999998\n",
      "0.0\n"
     ]
    }
   ],
   "source": [
    "def cos_sim(v1, v2):\n",
    "    pay = dot_prod(v1, v2)\n",
    "    payda = vec_norm(v1) * vec_norm(v2)\n",
    "    return pay / payda\n",
    "\n",
    "\n",
    "print(cos_sim(np.array([1, 2]), np.array([2, 4])))\n",
    "print(cos_sim(np.array([1, 2]), np.array([-1, -2])))\n",
    "print(cos_sim(np.array([0, 2]), np.array([2, 0])))"
   ]
  },
  {
   "cell_type": "code",
   "execution_count": null,
   "id": "2dfafa0f",
   "metadata": {},
   "outputs": [
    {
     "data": {
      "text/plain": [
       "array([2., 2., 2., 0., 0.])"
      ]
     },
     "execution_count": 13,
     "metadata": {},
     "output_type": "execute_result"
    }
   ],
   "source": [
    "def doc2vec(doc, w2i):\n",
    "    \"\"\"\n",
    "    doc2vec(\"a b b x y a\", w2i) -> [2, 2, 2, 0, 0]\n",
    "    \"\"\"\n",
    "    vec = np.zeros(len(w2i))\n",
    "    tokens = doc.split()\n",
    "    for token in tokens:\n",
    "        if token in w2i:\n",
    "            vec[w2i[token]] += 1\n",
    "        else:\n",
    "            vec[w2i[\"<unk>\"]] += 1\n",
    "    return vec\n",
    "\n",
    "\n",
    "doc2vec(\"a b b x y a\", w2i)"
   ]
  },
  {
   "cell_type": "code",
   "execution_count": null,
   "id": "6cb2a452",
   "metadata": {},
   "outputs": [
    {
     "name": "stdout",
     "output_type": "stream",
     "text": [
      "[0.73029674 0.70014004 0.73854895 0.15430335]\n",
      "2\n",
      "d3.txt\n"
     ]
    }
   ],
   "source": [
    "query = \"a b b x y a\"\n",
    "query_vec = doc2vec(query, w2i)\n",
    "\n",
    "similarities = []\n",
    "\n",
    "for doc_vec in doc_mat:\n",
    "    sim = cos_sim(query_vec, doc_vec)\n",
    "    similarities.append(sim)\n",
    "\n",
    "similarities = np.array(similarities)\n",
    "print(similarities)\n",
    "print(np.argmax(similarities))\n",
    "print(dosya_adlari[np.argmax(similarities)])"
   ]
  },
  {
   "cell_type": "code",
   "execution_count": null,
   "id": "f412d63d",
   "metadata": {},
   "outputs": [],
   "source": []
  }
 ],
 "metadata": {
  "kernelspec": {
   "display_name": "mlenv",
   "language": "python",
   "name": "python3"
  },
  "language_info": {
   "codemirror_mode": {
    "name": "ipython",
    "version": 3
   },
   "file_extension": ".py",
   "mimetype": "text/x-python",
   "name": "python",
   "nbconvert_exporter": "python",
   "pygments_lexer": "ipython3",
   "version": "3.12.2"
  }
 },
 "nbformat": 4,
 "nbformat_minor": 5
}
