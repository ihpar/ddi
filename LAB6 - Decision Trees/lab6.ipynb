{
 "cells": [
  {
   "cell_type": "code",
   "execution_count": null,
   "metadata": {},
   "outputs": [],
   "source": [
    "import numpy as np\n",
    "import pandas as pd\n",
    "import string\n",
    "from sklearn.naive_bayes import MultinomialNB\n",
    "from sklearn.tree import DecisionTreeClassifier\n",
    "from sklearn.feature_extraction.text import TfidfVectorizer\n",
    "from sklearn.model_selection import train_test_split\n",
    "from sklearn.metrics import f1_score\n"
   ]
  },
  {
   "cell_type": "code",
   "execution_count": null,
   "metadata": {},
   "outputs": [],
   "source": [
    "df = pd.read_csv(\"turkish_song_lyrics.csv\")\n",
    "df.head()\n"
   ]
  },
  {
   "cell_type": "code",
   "execution_count": null,
   "metadata": {},
   "outputs": [],
   "source": [
    "df.singer.value_counts()\n"
   ]
  },
  {
   "cell_type": "code",
   "execution_count": null,
   "metadata": {},
   "outputs": [],
   "source": [
    "singers = [\"Müslüm Gürses\", \"Ceza\"]\n"
   ]
  },
  {
   "cell_type": "code",
   "execution_count": null,
   "metadata": {},
   "outputs": [],
   "source": [
    "df_subset = df[df.singer.isin(singers)].copy()\n",
    "df_subset.singer.value_counts()\n"
   ]
  },
  {
   "cell_type": "code",
   "execution_count": null,
   "metadata": {},
   "outputs": [],
   "source": [
    "def clean(row):\n",
    "    satirlar = row[\"lyrics\"].split(\"\\n\")\n",
    "    return \" \".join(satirlar).lower().translate(str.maketrans(\"\", \"\", string.punctuation))\n",
    "\n",
    "\n",
    "df_subset[\"clean\"] = df_subset.apply(lambda row: clean(row), axis=1)\n"
   ]
  },
  {
   "cell_type": "code",
   "execution_count": null,
   "metadata": {},
   "outputs": [],
   "source": [
    "def etiketle(row):\n",
    "    if row[\"singer\"] == singers[0]:\n",
    "        return 0\n",
    "    return 1\n",
    "\n",
    "\n",
    "df_subset[\"labels\"] = df_subset.apply(lambda row:  etiketle(row), axis=1)\n"
   ]
  },
  {
   "cell_type": "code",
   "execution_count": null,
   "metadata": {},
   "outputs": [],
   "source": [
    "df_subset.head()\n"
   ]
  },
  {
   "cell_type": "code",
   "execution_count": null,
   "metadata": {},
   "outputs": [],
   "source": [
    "df_subset.tail()\n"
   ]
  },
  {
   "cell_type": "code",
   "execution_count": null,
   "metadata": {},
   "outputs": [],
   "source": [
    "X = df_subset.clean.to_numpy()\n",
    "y = df_subset.labels.to_numpy()\n"
   ]
  },
  {
   "cell_type": "code",
   "execution_count": null,
   "metadata": {},
   "outputs": [],
   "source": [
    "X_train, X_test, y_train, y_test = train_test_split(\n",
    "    X, y, test_size=0.2, random_state=42)\n"
   ]
  },
  {
   "cell_type": "code",
   "execution_count": null,
   "metadata": {},
   "outputs": [],
   "source": [
    "print(len(X_train), len(X_test))\n"
   ]
  },
  {
   "cell_type": "code",
   "execution_count": null,
   "metadata": {},
   "outputs": [],
   "source": [
    "X_train[0]"
   ]
  },
  {
   "cell_type": "code",
   "execution_count": null,
   "metadata": {},
   "outputs": [],
   "source": [
    "vectorizer = TfidfVectorizer()\n",
    "\n",
    "X_train = vectorizer.fit_transform(X_train)\n",
    "X_test = vectorizer.transform(X_test)\n"
   ]
  },
  {
   "cell_type": "code",
   "execution_count": null,
   "metadata": {},
   "outputs": [],
   "source": [
    "model_NB = MultinomialNB()\n",
    "model_NB.fit(X_train, y_train)\n"
   ]
  },
  {
   "cell_type": "code",
   "execution_count": null,
   "metadata": {},
   "outputs": [],
   "source": [
    "print(\"NB train accuracy:\", model_NB.score(X_train, y_train))\n",
    "print(\"NB test accuracy:\", model_NB.score(X_test, y_test))\n",
    "\n",
    "predictions_train = model_NB.predict(X_train)\n",
    "print(\"NB Train F1:\", f1_score(y_train, predictions_train))\n",
    "\n",
    "predictions_test = model_NB.predict(X_test)\n",
    "print(\"NB Test F1:\", f1_score(y_test, predictions_test))\n"
   ]
  },
  {
   "cell_type": "code",
   "execution_count": null,
   "metadata": {},
   "outputs": [],
   "source": [
    "model_DT = DecisionTreeClassifier()\n",
    "model_DT.fit(X_train, y_train)\n"
   ]
  },
  {
   "cell_type": "code",
   "execution_count": null,
   "metadata": {},
   "outputs": [],
   "source": [
    "print(\"DT train accuracy:\", model_DT.score(X_train, y_train))\n",
    "print(\"DT test accuracy:\", model_DT.score(X_test, y_test))\n",
    "\n",
    "predictions_train = model_DT.predict(X_train)\n",
    "print(\"DT Train F1:\", f1_score(y_train, predictions_train))\n",
    "\n",
    "predictions_test = model_DT.predict(X_test)\n",
    "print(\"DT Test F1:\", f1_score(y_test, predictions_test))\n"
   ]
  },
  {
   "cell_type": "code",
   "execution_count": null,
   "metadata": {},
   "outputs": [],
   "source": [
    "lyric = \"kahretsin bu hayat batsın karanalıklar içinde çürüyorum\"\n",
    "lyric_vec = vectorizer.transform([lyric])\n",
    "# müslüm: 0\n",
    "# ceza: 1\n",
    "print(\"NB:\", model_NB.predict(lyric_vec))\n",
    "print(\"DT:\", model_DT.predict(lyric_vec))\n",
    "\n",
    "print(\"NB Proba:\", model_NB.predict_proba(lyric_vec))\n",
    "print(\"DT Proba:\", model_DT.predict_proba(lyric_vec))\n"
   ]
  }
 ],
 "metadata": {
  "kernelspec": {
   "display_name": "tfnew",
   "language": "python",
   "name": "python3"
  },
  "language_info": {
   "codemirror_mode": {
    "name": "ipython",
    "version": 3
   },
   "file_extension": ".py",
   "mimetype": "text/x-python",
   "name": "python",
   "nbconvert_exporter": "python",
   "pygments_lexer": "ipython3",
   "version": "3.9.16"
  },
  "orig_nbformat": 4,
  "vscode": {
   "interpreter": {
    "hash": "93a508892ad0418bbbef2f3796edd4c06527622cb95cdcc5e9525e8332085ac2"
   }
  }
 },
 "nbformat": 4,
 "nbformat_minor": 2
}
