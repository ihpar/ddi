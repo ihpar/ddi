{
 "cells": [
  {
   "cell_type": "code",
   "execution_count": 2,
   "metadata": {},
   "outputs": [],
   "source": [
    "import matplotlib.pyplot as plt\n",
    "import numpy as np"
   ]
  },
  {
   "cell_type": "code",
   "execution_count": 15,
   "metadata": {},
   "outputs": [],
   "source": [
    "data = {\"r\": [\n",
    "    [-20, 0],\n",
    "    [-18, -5],\n",
    "    [-17, 7],\n",
    "    [-12, -13],\n",
    "    [-5, 19],\n",
    "    [9, 14],\n",
    "    [11, 12],\n",
    "    [17, 0],\n",
    "    [18, -7],\n",
    "    [23, -5]\n",
    "], \"x\": [\n",
    "    [-7, -5],\n",
    "    [-6, 6],\n",
    "    [-3, 3],\n",
    "    [0, 0],\n",
    "    [2, 9],\n",
    "    [2, -6],\n",
    "    [4, -5],\n",
    "    [7, 0],\n",
    "    [9, 4],\n",
    "    [8, -6]\n",
    "]}"
   ]
  },
  {
   "cell_type": "code",
   "execution_count": 30,
   "metadata": {},
   "outputs": [
    {
     "data": {
      "image/png": "[encoded data removed]",
      "text/plain": [
       "<Figure size 640x480 with 1 Axes>"
      ]
     },
     "metadata": {},
     "output_type": "display_data"
    }
   ],
   "source": [
    "fig = plt.figure()\n",
    "ax = fig.gca()\n",
    "ax.set_xticks(np.arange(-25, 25, 5))\n",
    "ax.set_yticks(np.arange(-25, 25, 5))\n",
    "plt.scatter([l[0] for l in data[\"r\"]], [l[1]\n",
    "            for l in data[\"r\"]], c=\"r\", marker=\"x\")\n",
    "plt.scatter([l[0] for l in data[\"x\"]], [l[1] for l in data[\"x\"]], c=\"g\")\n",
    "plt.grid()\n",
    "plt.axhline(0, color=\"b\", linewidth=0.5)\n",
    "plt.axvline(0, color=\"b\", linewidth=0.5)\n",
    "plt.savefig(\"dec.pdf\", transparent=True)\n",
    "plt.show()"
   ]
  },
  {
   "cell_type": "code",
   "execution_count": 4,
   "metadata": {},
   "outputs": [
    {
     "data": {
      "text/plain": [
       "0.9852281360342515"
      ]
     },
     "execution_count": 4,
     "metadata": {},
     "output_type": "execute_result"
    }
   ],
   "source": [
    "(-8/14)*np.log2(8/14) + (-6/14)*np.log2(6/14)"
   ]
  },
  {
   "cell_type": "code",
   "execution_count": 5,
   "metadata": {},
   "outputs": [
    {
     "data": {
      "text/plain": [
       "0.9182958340544896"
      ]
     },
     "execution_count": 5,
     "metadata": {},
     "output_type": "execute_result"
    }
   ],
   "source": [
    "(-2/6)*np.log2(2/6) + (-4/6)*np.log2(4/6)"
   ]
  },
  {
   "cell_type": "code",
   "execution_count": 6,
   "metadata": {},
   "outputs": [
    {
     "data": {
      "text/plain": [
       "0.954434002924965"
      ]
     },
     "execution_count": 6,
     "metadata": {},
     "output_type": "execute_result"
    }
   ],
   "source": [
    "(-10/16)*np.log2(10/16) + (-6/16)*np.log2(6/16)"
   ]
  }
 ],
 "metadata": {
  "kernelspec": {
   "display_name": "tfnew",
   "language": "python",
   "name": "python3"
  },
  "language_info": {
   "codemirror_mode": {
    "name": "ipython",
    "version": 3
   },
   "file_extension": ".py",
   "mimetype": "text/x-python",
   "name": "python",
   "nbconvert_exporter": "python",
   "pygments_lexer": "ipython3",
   "version": "3.9.16"
  }
 },
 "nbformat": 4,
 "nbformat_minor": 2
}
