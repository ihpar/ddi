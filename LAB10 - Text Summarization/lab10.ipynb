{
 "cells": [
  {
   "cell_type": "code",
   "execution_count": null,
   "metadata": {},
   "outputs": [],
   "source": [
    "# pip install simplemma"
   ]
  },
  {
   "cell_type": "code",
   "execution_count": null,
   "metadata": {},
   "outputs": [],
   "source": [
    "from sklearn.feature_extraction.text import TfidfVectorizer\n",
    "from simplemma import text_lemmatizer\n",
    "from nltk import sent_tokenize\n",
    "import numpy as np\n",
    "import string\n",
    "import re"
   ]
  },
  {
   "cell_type": "code",
   "execution_count": null,
   "metadata": {},
   "outputs": [],
   "source": [
    "stop_words = None\n",
    "with open(\"stopwords.txt\", \"r\") as in_file:\n",
    "    stop_words = set(in_file.read().splitlines())"
   ]
  },
  {
   "cell_type": "code",
   "execution_count": null,
   "metadata": {},
   "outputs": [],
   "source": [
    "doc = None\n",
    "with open(\"metin_1.txt\", \"r\") as in_file:\n",
    "    doc = in_file.read()\n",
    "\n",
    "baslik = doc.split(\"\\n\", 1)[0]\n",
    "metin = doc.split(\"\\n\", 1)[1]\n",
    "\n",
    "print(\"Başlık:\")\n",
    "print(baslik)\n",
    "\n",
    "print(\"*\" * 50)\n",
    "\n",
    "print(\"Metin:\")\n",
    "print(metin)"
   ]
  },
  {
   "cell_type": "code",
   "execution_count": null,
   "metadata": {},
   "outputs": [],
   "source": [
    "cumleler = sent_tokenize(metin)\n",
    "cumleler"
   ]
  },
  {
   "cell_type": "code",
   "execution_count": null,
   "metadata": {},
   "outputs": [],
   "source": [
    "def clean_text(text):\n",
    "    text = text.lower().translate(str.maketrans(\"\", \"\", string.punctuation))\n",
    "    text = re.sub(\"’|“|”|‘|–|—\", \" \", text)\n",
    "    text = text_lemmatizer(text, lang=\"tr\")\n",
    "    return \" \".join([word for word in text if word not in stop_words])"
   ]
  },
  {
   "cell_type": "code",
   "execution_count": null,
   "metadata": {},
   "outputs": [],
   "source": [
    "cumleler_temiz = [clean_text(c) for c in cumleler]\n",
    "cumleler_temiz"
   ]
  },
  {
   "cell_type": "code",
   "execution_count": null,
   "metadata": {},
   "outputs": [],
   "source": [
    "vectorizer = TfidfVectorizer(norm=\"l1\")"
   ]
  },
  {
   "cell_type": "code",
   "execution_count": null,
   "metadata": {},
   "outputs": [],
   "source": [
    "X = vectorizer.fit_transform(cumleler_temiz)"
   ]
  },
  {
   "cell_type": "code",
   "execution_count": null,
   "metadata": {},
   "outputs": [],
   "source": [
    "v1 = X[0]\n",
    "v1.toarray()"
   ]
  },
  {
   "cell_type": "code",
   "execution_count": null,
   "metadata": {},
   "outputs": [],
   "source": [
    "v1[v1 != 0]"
   ]
  },
  {
   "cell_type": "code",
   "execution_count": null,
   "metadata": {},
   "outputs": [],
   "source": [
    "v1[v1 != 0].mean()"
   ]
  },
  {
   "cell_type": "code",
   "execution_count": null,
   "metadata": {},
   "outputs": [],
   "source": [
    "def cumle_puani(vektor):\n",
    "    non_zero_elems = vektor[vektor != 0]\n",
    "    return non_zero_elems.mean()"
   ]
  },
  {
   "cell_type": "code",
   "execution_count": null,
   "metadata": {},
   "outputs": [],
   "source": [
    "skorlar = np.array([cumle_puani(v) for v in X])\n",
    "skorlar"
   ]
  },
  {
   "cell_type": "code",
   "execution_count": null,
   "metadata": {},
   "outputs": [],
   "source": [
    "siralama_indeksleri = np.argsort(-skorlar)\n",
    "siralama_indeksleri"
   ]
  },
  {
   "cell_type": "code",
   "execution_count": null,
   "metadata": {},
   "outputs": [],
   "source": [
    "print(\"Başlık:\")\n",
    "print(baslik)\n",
    "print(\"Özet:\")\n",
    "for i in siralama_indeksleri[:5]:\n",
    "    print(cumleler[i])"
   ]
  },
  {
   "cell_type": "code",
   "execution_count": null,
   "metadata": {},
   "outputs": [],
   "source": [
    "def metin_ozetle(dosya_ismi, cumle_sayisi=5):\n",
    "    doc = None\n",
    "    with open(dosya_ismi, \"r\") as in_file:\n",
    "        doc = in_file.read()\n",
    "\n",
    "    baslik = doc.split(\"\\n\", 1)[0]\n",
    "    metin = doc.split(\"\\n\", 1)[1]\n",
    "    cumleler = sent_tokenize(metin)\n",
    "    cumleler_temiz = [clean_text(c) for c in cumleler]\n",
    "    vectorizer = TfidfVectorizer(norm=\"l1\")\n",
    "    X = vectorizer.fit_transform(cumleler_temiz)\n",
    "    skorlar = np.array([cumle_puani(v) for v in X])\n",
    "    siralama_indeksleri = np.argsort(-skorlar)\n",
    "\n",
    "    print(baslik)\n",
    "    print(\"Özet:\")\n",
    "    for i in siralama_indeksleri[:cumle_sayisi]:\n",
    "        print(cumleler[i])"
   ]
  },
  {
   "cell_type": "code",
   "execution_count": null,
   "metadata": {},
   "outputs": [],
   "source": [
    "metin_ozetle(\"metin_2.txt\")"
   ]
  },
  {
   "cell_type": "markdown",
   "metadata": {},
   "source": [
    "Hazır kullanım için metin özetleyiciler"
   ]
  },
  {
   "cell_type": "code",
   "execution_count": null,
   "metadata": {},
   "outputs": [],
   "source": [
    "# https://radimrehurek.com/gensim_3.8.3/auto_examples/tutorials/run_summarization.html\n",
    "\n",
    "# !pip install sumy\n",
    "from sumy.summarizers.text_rank import TextRankSummarizer\n",
    "from sumy.summarizers.lsa import LsaSummarizer\n",
    "from sumy.parsers.plaintext import PlaintextParser\n",
    "from sumy.nlp.tokenizers import Tokenizer"
   ]
  },
  {
   "cell_type": "code",
   "execution_count": null,
   "metadata": {},
   "outputs": [],
   "source": [
    "ozetleyici = TextRankSummarizer()\n",
    "parser = PlaintextParser.from_string(metin, Tokenizer(\"tr\"))\n",
    "ozet = ozetleyici(parser.document, sentences_count=5)\n",
    "for cumle in ozet:\n",
    "    print(str(cumle))"
   ]
  },
  {
   "cell_type": "code",
   "execution_count": null,
   "metadata": {},
   "outputs": [],
   "source": [
    "ozetleyici = LsaSummarizer()\n",
    "ozet = ozetleyici(parser.document, sentences_count=5)\n",
    "for cumle in ozet:\n",
    "    print(str(cumle))"
   ]
  },
  {
   "cell_type": "code",
   "execution_count": null,
   "metadata": {},
   "outputs": [],
   "source": []
  }
 ],
 "metadata": {
  "kernelspec": {
   "display_name": "tfnew",
   "language": "python",
   "name": "python3"
  },
  "language_info": {
   "codemirror_mode": {
    "name": "ipython",
    "version": 3
   },
   "file_extension": ".py",
   "mimetype": "text/x-python",
   "name": "python",
   "nbconvert_exporter": "python",
   "pygments_lexer": "ipython3",
   "version": "3.9.16"
  }
 },
 "nbformat": 4,
 "nbformat_minor": 2
}
