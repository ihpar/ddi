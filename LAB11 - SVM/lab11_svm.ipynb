{
 "cells": [
  {
   "cell_type": "code",
   "execution_count": null,
   "metadata": {},
   "outputs": [],
   "source": [
    "import string\n",
    "import random\n",
    "import re\n",
    "import pandas as pd\n",
    "\n",
    "from simplemma import text_lemmatizer\n",
    "from sklearn.feature_extraction.text import CountVectorizer\n",
    "from sklearn.model_selection import train_test_split\n",
    "\n",
    "from sklearn.naive_bayes import MultinomialNB\n",
    "from sklearn.tree import DecisionTreeClassifier\n",
    "from sklearn.svm import SVC\n",
    "\n",
    "from sklearn.model_selection import GridSearchCV "
   ]
  },
  {
   "cell_type": "code",
   "execution_count": null,
   "metadata": {},
   "outputs": [],
   "source": [
    "df = pd.read_csv(\"magaza_yorumlari_duygu_analizi.csv\", encoding=\"utf-16\")\n",
    "df.dropna(inplace=True)\n",
    "df.head()"
   ]
  },
  {
   "cell_type": "code",
   "execution_count": null,
   "metadata": {},
   "outputs": [],
   "source": [
    "df = df.loc[df[\"Durum\"].isin([\"Olumlu\", \"Olumsuz\"])]\n",
    "df[\"Durum\"].value_counts()"
   ]
  },
  {
   "cell_type": "code",
   "execution_count": null,
   "metadata": {},
   "outputs": [],
   "source": [
    "def etiketle(row):\n",
    "    if row[\"Durum\"] == \"Olumlu\":\n",
    "        return 1\n",
    "    return 0\n",
    "\n",
    "\n",
    "df[\"label\"] = df.apply(lambda row: etiketle(row), axis=1)\n",
    "\n",
    "df.head()"
   ]
  },
  {
   "cell_type": "code",
   "execution_count": null,
   "metadata": {},
   "outputs": [],
   "source": [
    "stop_words = {\"a\", \"acaba\", \"ama\", \"ancak\", \"artık\", \"asla\", \"aslında\", \"az\", \"b\", \"bana\", \"bazen\", \"bazı\", \"bazıları\", \"bazısı\", \"belki\", \"ben\", \"beni\", \"benim\", \"beş\", \"bile\", \"bir\", \"birçoğu\", \"birçok\", \"birçokları\", \"biri\", \"birisi\", \"birkaç\", \"birkaçı\", \"birşey\", \"birşeyi\", \"biz\", \"bize\", \"bizi\", \"bizim\", \"böyle\", \"böylece\", \"bu\", \"buna\", \"bunda\", \"bundan\", \"bunu\", \"bunun\", \"burada\", \"bütün\", \"c\", \"ç\", \"çoğu\", \"çoğuna\", \"çoğunu\", \"çok\", \"çünkü\", \"d\", \"da\", \"daha\", \"de\", \"değil\", \"demek\", \"diğer\", \"diğeri\", \"diğerleri\", \"diye\", \"dokuz\", \"dolayı\", \"dört\", \"e\", \"elbette\", \"en\", \"f\", \"fakat\", \"falan\", \"felan\", \"filan\", \"g\", \"gene\", \"gibi\", \"ğ\", \"h\", \"hâlâ\", \"hangi\", \"hangisi\", \"hani\", \"hatta\", \"hem\", \"henüz\", \"hep\", \"hepsi\", \"hepsine\", \"hepsini\", \"her\", \"her biri\", \"herkes\", \"herkese\", \"herkesi\", \"hiç\", \"hiç kimse\", \"hiçbiri\", \"hiçbirine\", \"hiçbirini\", \"ı\", \"i\", \"için\", \"içinde\", \"iki\", \"ile\", \"ise\", \"işte\",\n",
    "              \"j\", \"k\", \"kaç\", \"kadar\", \"kendi\", \"kendine\", \"kendini\", \"ki\", \"kim\", \"kime\", \"kimi\", \"kimin\", \"kimisi\", \"l\", \"m\", \"madem\", \"mı\", \"mı\", \"mi\", \"mu\", \"mu\", \"mü\", \"mü\", \"n\", \"nasıl\", \"ne\", \"ne kadar\", \"ne zaman\", \"neden\", \"nedir\", \"nerde\", \"nerede\", \"nereden\", \"nereye\", \"nesi\", \"neyse\", \"niçin\", \"niye\", \"o\", \"on\", \"ona\", \"ondan\", \"onlar\", \"onlara\", \"onlardan\", \"onların\", \"onların\", \"onu\", \"onun\", \"orada\", \"oysa\", \"oysaki\", \"ö\", \"öbürü\", \"ön\", \"önce\", \"ötürü\", \"öyle\", \"p\", \"r\", \"rağmen\", \"s\", \"sana\", \"sekiz\", \"sen\", \"senden\", \"seni\", \"senin\", \"siz\", \"sizden\", \"size\", \"sizi\", \"sizin\", \"son\", \"sonra\", \"ş\", \"şayet\", \"şey\", \"şeyden\", \"şeye\", \"şeyi\", \"şeyler\", \"şimdi\", \"şöyle\", \"şu\", \"şuna\", \"şunda\", \"şundan\", \"şunlar\", \"şunu\", \"şunun\", \"t\", \"tabi\", \"tamam\", \"tüm\", \"tümü\", \"u\", \"ü\", \"üç\", \"üzere\", \"v\", \"var\", \"ve\", \"veya\", \"veyahut\", \"y\", \"ya\", \"ya da\", \"yani\", \"yedi\", \"yerine\", \"yine\", \"yoksa\", \"z\", \"zaten\"}\n",
    "\n",
    "\n",
    "def clean_text(text):\n",
    "    text = \" \".join(text.split())\n",
    "    text = text.lower()\n",
    "    text = text.replace(\"\\\\n\", \" \")\n",
    "    text = re.sub(\"[0-9]+\", \"\", text)\n",
    "    text = re.sub(\"%|(|)|-\", \"\", text)\n",
    "    text = text.translate(str.maketrans(\"\", \"\", string.punctuation))\n",
    "    text = \" \".join([t for t in text.split() if t not in stop_words])\n",
    "    return \" \".join(text_lemmatizer(text, lang=\"tr\"))\n",
    "\n",
    "\n",
    "df[\"clean\"] = df.apply(lambda row: clean_text(row[\"Görüş\"]), axis=1)"
   ]
  },
  {
   "cell_type": "code",
   "execution_count": null,
   "metadata": {},
   "outputs": [],
   "source": [
    "for _ in range(10):\n",
    "    idx = random.randint(0, len(df)-1)\n",
    "    print(df.iloc[idx][\"clean\"])\n",
    "    print(\"-\" * 20)"
   ]
  },
  {
   "cell_type": "code",
   "execution_count": null,
   "metadata": {},
   "outputs": [],
   "source": [
    "df.head(10)"
   ]
  },
  {
   "cell_type": "code",
   "execution_count": null,
   "metadata": {},
   "outputs": [],
   "source": [
    "X = df[\"clean\"].to_numpy()\n",
    "y = df[\"label\"].to_numpy()"
   ]
  },
  {
   "cell_type": "code",
   "execution_count": null,
   "metadata": {},
   "outputs": [],
   "source": [
    "X_train, X_test, y_train, y_test = train_test_split(X, y, test_size=0.2, random_state=42)"
   ]
  },
  {
   "cell_type": "code",
   "execution_count": null,
   "metadata": {},
   "outputs": [],
   "source": [
    "vectorizer = CountVectorizer()\n",
    "\n",
    "X_train = vectorizer.fit_transform(X_train)\n",
    "X_test = vectorizer.transform(X_test)"
   ]
  },
  {
   "cell_type": "code",
   "execution_count": null,
   "metadata": {},
   "outputs": [],
   "source": [
    "clf_NB = MultinomialNB()\n",
    "clf_NB.fit(X_train, y_train)\n",
    "\n",
    "clf_NB.score(X_test, y_test)"
   ]
  },
  {
   "cell_type": "code",
   "execution_count": null,
   "metadata": {},
   "outputs": [],
   "source": [
    "clf_DT = DecisionTreeClassifier()\n",
    "clf_DT.fit(X_train, y_train)\n",
    "\n",
    "clf_DT.score(X_test, y_test)"
   ]
  },
  {
   "cell_type": "code",
   "execution_count": null,
   "metadata": {},
   "outputs": [],
   "source": [
    "clf_SVM = SVC(kernel=\"linear\")\n",
    "clf_SVM.fit(X_train, y_train)\n",
    "\n",
    "clf_SVM.score(X_test, y_test)"
   ]
  },
  {
   "cell_type": "code",
   "execution_count": null,
   "metadata": {},
   "outputs": [],
   "source": [
    "clf_SVM = SVC(kernel=\"rbf\")\n",
    "clf_SVM.fit(X_train, y_train)\n",
    "\n",
    "clf_SVM.score(X_test, y_test)"
   ]
  },
  {
   "cell_type": "code",
   "execution_count": null,
   "metadata": {},
   "outputs": [],
   "source": [
    "param_grid = [\n",
    "  {\"C\": [1, 10, 100], \"kernel\": [\"linear\"]},\n",
    "  {\"C\": [1, 10, 100], \"gamma\": [0.001, 0.0001], \"kernel\": [\"rbf\"]},\n",
    " ]\n",
    "  \n",
    "grid = GridSearchCV(SVC(), param_grid, verbose = 3) \n",
    "  \n",
    "grid.fit(X_train, y_train) \n",
    "\n",
    "print(grid.best_params_) "
   ]
  },
  {
   "cell_type": "code",
   "execution_count": null,
   "metadata": {},
   "outputs": [],
   "source": [
    "grid.best_estimator_.score(X_test, y_test)"
   ]
  },
  {
   "cell_type": "code",
   "execution_count": null,
   "metadata": {},
   "outputs": [],
   "source": []
  }
 ],
 "metadata": {
  "kernelspec": {
   "display_name": "tfnew",
   "language": "python",
   "name": "python3"
  },
  "language_info": {
   "codemirror_mode": {
    "name": "ipython",
    "version": 3
   },
   "file_extension": ".py",
   "mimetype": "text/x-python",
   "name": "python",
   "nbconvert_exporter": "python",
   "pygments_lexer": "ipython3",
   "version": "3.9.16"
  }
 },
 "nbformat": 4,
 "nbformat_minor": 2
}
