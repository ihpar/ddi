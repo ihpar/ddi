{
 "cells": [
  {
   "cell_type": "code",
   "execution_count": 1,
   "metadata": {
    "executionInfo": {
     "elapsed": 242,
     "status": "ok",
     "timestamp": 1732084604491,
     "user": {
      "displayName": "",
      "userId": ""
     },
     "user_tz": -180
    },
    "id": "nOiPjW35VWwJ"
   },
   "outputs": [],
   "source": [
    "import numpy as np"
   ]
  },
  {
   "cell_type": "code",
   "execution_count": 2,
   "metadata": {
    "executionInfo": {
     "elapsed": 262,
     "status": "ok",
     "timestamp": 1732084516312,
     "user": {
      "displayName": "",
      "userId": ""
     },
     "user_tz": -180
    },
    "id": "0ZVLsarTVY0i"
   },
   "outputs": [],
   "source": [
    "cls_0 = [\n",
    "    \"a b b a b c\",\n",
    "    \"a c b c b b b a\",\n",
    "    \"b a b a b c\",\n",
    "]\n",
    "\n",
    "cls_1 = [\n",
    "    \"d e b a b c\",\n",
    "    \"d c b d b b e a\",\n",
    "    \"a a c e b c\",\n",
    "    \"d a c a c c e e\",\n",
    "]"
   ]
  },
  {
   "cell_type": "code",
   "execution_count": 3,
   "metadata": {
    "executionInfo": {
     "elapsed": 257,
     "status": "ok",
     "timestamp": 1732084526811,
     "user": {
      "displayName": "",
      "userId": ""
     },
     "user_tz": -180
    },
    "id": "eGxsj8VQV4q7"
   },
   "outputs": [],
   "source": [
    "s = \"a b c a b b x a\""
   ]
  },
  {
   "cell_type": "code",
   "execution_count": 4,
   "metadata": {
    "executionInfo": {
     "elapsed": 283,
     "status": "ok",
     "timestamp": 1732084562548,
     "user": {
      "displayName": "",
      "userId": ""
     },
     "user_tz": -180
    },
    "id": "7X562GuXcMEY"
   },
   "outputs": [],
   "source": [
    "def build_w2i(cls_list):\n",
    "    w2i = {\n",
    "        \"<unk>\": 0\n",
    "    }\n",
    "    i = 1\n",
    "    for cls in cls_list:\n",
    "        for s in cls:\n",
    "            tokens = s.split()\n",
    "            for token in tokens:\n",
    "                if token in w2i:\n",
    "                    continue\n",
    "\n",
    "                w2i[token] = i\n",
    "                i += 1\n",
    "    return w2i"
   ]
  },
  {
   "cell_type": "code",
   "execution_count": 5,
   "metadata": {
    "colab": {
     "base_uri": "https://localhost:8080/"
    },
    "executionInfo": {
     "elapsed": 930,
     "status": "ok",
     "timestamp": 1732084566516,
     "user": {
      "displayName": "",
      "userId": ""
     },
     "user_tz": -180
    },
    "id": "bHSF37DNcRon",
    "outputId": "e5bf9bd1-314a-42d3-b5de-2afbb25b4a0a"
   },
   "outputs": [
    {
     "name": "stdout",
     "output_type": "stream",
     "text": [
      "{'<unk>': 0, 'a': 1, 'b': 2, 'c': 3, 'd': 4, 'e': 5}\n"
     ]
    }
   ],
   "source": [
    "w2i = build_w2i([cls_0, cls_1])\n",
    "print(w2i)"
   ]
  },
  {
   "cell_type": "code",
   "execution_count": 6,
   "metadata": {
    "colab": {
     "base_uri": "https://localhost:8080/"
    },
    "executionInfo": {
     "elapsed": 239,
     "status": "ok",
     "timestamp": 1732084574640,
     "user": {
      "displayName": "",
      "userId": ""
     },
     "user_tz": -180
    },
    "id": "xq9xGhKdc89X",
    "outputId": "8de6ef6b-86b8-4993-f1c5-4f02637190fc"
   },
   "outputs": [
    {
     "data": {
      "text/plain": [
       "6"
      ]
     },
     "execution_count": 6,
     "metadata": {},
     "output_type": "execute_result"
    }
   ],
   "source": [
    "len(w2i)"
   ]
  },
  {
   "cell_type": "code",
   "execution_count": 7,
   "metadata": {
    "executionInfo": {
     "elapsed": 386,
     "status": "ok",
     "timestamp": 1732084590793,
     "user": {
      "displayName": "",
      "userId": ""
     },
     "user_tz": -180
    },
    "id": "KW6uxBaue-oG"
   },
   "outputs": [],
   "source": [
    "def build_pi(w2i, docs):\n",
    "    pi = np.ones((len(w2i), ))\n",
    "    for s in docs:\n",
    "        tokens = s.split()\n",
    "        first_token = tokens[0]\n",
    "        first_token_index = w2i[first_token]\n",
    "        pi[first_token_index] += 1\n",
    "\n",
    "    pi = pi / pi.sum()\n",
    "    return pi"
   ]
  },
  {
   "cell_type": "code",
   "execution_count": 8,
   "metadata": {
    "executionInfo": {
     "elapsed": 228,
     "status": "ok",
     "timestamp": 1732084609915,
     "user": {
      "displayName": "",
      "userId": ""
     },
     "user_tz": -180
    },
    "id": "7rcGqtX1f5iX"
   },
   "outputs": [],
   "source": [
    "pi_0 = build_pi(w2i, cls_0)\n",
    "pi_1 = build_pi(w2i, cls_1)"
   ]
  },
  {
   "cell_type": "code",
   "execution_count": 9,
   "metadata": {
    "executionInfo": {
     "elapsed": 234,
     "status": "ok",
     "timestamp": 1732084621725,
     "user": {
      "displayName": "",
      "userId": ""
     },
     "user_tz": -180
    },
    "id": "JwfzacUWlyQc"
   },
   "outputs": [],
   "source": [
    "def build_A(w2i, docs):\n",
    "    A = np.ones((len(w2i), len(w2i)))\n",
    "    for doc in docs:\n",
    "        tokens = doc.split()\n",
    "        token_count = len(tokens)\n",
    "        for i in range(1, token_count):\n",
    "            curr = tokens[i]\n",
    "            prev = tokens[i-1]\n",
    "            curr_token_index = w2i[curr]\n",
    "            prev_token_index = w2i[prev]\n",
    "            A[prev_token_index][curr_token_index] += 1\n",
    "\n",
    "    A = A / A.sum(axis=1, keepdims=True)\n",
    "    return A"
   ]
  },
  {
   "cell_type": "code",
   "execution_count": 10,
   "metadata": {
    "executionInfo": {
     "elapsed": 257,
     "status": "ok",
     "timestamp": 1732084624419,
     "user": {
      "displayName": "",
      "userId": ""
     },
     "user_tz": -180
    },
    "id": "1JsDJsoxmX4V"
   },
   "outputs": [],
   "source": [
    "A_0 = build_A(w2i, cls_0)\n",
    "A_1 = build_A(w2i, cls_1)"
   ]
  },
  {
   "cell_type": "code",
   "execution_count": 11,
   "metadata": {
    "colab": {
     "base_uri": "https://localhost:8080/"
    },
    "executionInfo": {
     "elapsed": 226,
     "status": "ok",
     "timestamp": 1732084629216,
     "user": {
      "displayName": "",
      "userId": ""
     },
     "user_tz": -180
    },
    "id": "ZxRnB0TYmnds",
    "outputId": "d25dddae-52d1-46c4-c050-ac9a1a3c5448"
   },
   "outputs": [
    {
     "name": "stdout",
     "output_type": "stream",
     "text": [
      "pi_0: [0.11111111 0.33333333 0.22222222 0.11111111 0.11111111 0.11111111]\n",
      "A_0: [[0.16666667 0.16666667 0.16666667 0.16666667 0.16666667 0.16666667]\n",
      " [0.09090909 0.09090909 0.45454545 0.18181818 0.09090909 0.09090909]\n",
      " [0.0625     0.3125     0.25       0.25       0.0625     0.0625    ]\n",
      " [0.125      0.125      0.375      0.125      0.125      0.125     ]\n",
      " [0.16666667 0.16666667 0.16666667 0.16666667 0.16666667 0.16666667]\n",
      " [0.16666667 0.16666667 0.16666667 0.16666667 0.16666667 0.16666667]]\n",
      "----------------------------------------------------------------------\n",
      "pi_1: [0.1 0.2 0.1 0.1 0.4 0.1]\n",
      "A_1: [[0.16666667 0.16666667 0.16666667 0.16666667 0.16666667 0.16666667]\n",
      " [0.09090909 0.18181818 0.18181818 0.36363636 0.09090909 0.09090909]\n",
      " [0.08333333 0.16666667 0.16666667 0.25       0.16666667 0.16666667]\n",
      " [0.09090909 0.18181818 0.18181818 0.18181818 0.09090909 0.27272727]\n",
      " [0.1        0.2        0.2        0.2        0.1        0.2       ]\n",
      " [0.1        0.2        0.3        0.1        0.1        0.2       ]]\n"
     ]
    }
   ],
   "source": [
    "# cls 0'a ait pi ve A1\n",
    "print(\"pi_0:\", pi_0)\n",
    "print(\"A_0:\", A_0)\n",
    "\n",
    "print(\"-\" * 70)\n",
    "\n",
    "# cls 1'e ait pi ve A1\n",
    "print(\"pi_1:\", pi_1)\n",
    "print(\"A_1:\", A_1)"
   ]
  },
  {
   "cell_type": "code",
   "execution_count": 12,
   "metadata": {
    "colab": {
     "base_uri": "https://localhost:8080/"
    },
    "executionInfo": {
     "elapsed": 232,
     "status": "ok",
     "timestamp": 1732085087872,
     "user": {
      "displayName": "",
      "userId": ""
     },
     "user_tz": -180
    },
    "id": "Y6BoowVbTA2A",
    "outputId": "3bb8c45e-2f6e-4157-87d8-68a88ba1b469"
   },
   "outputs": [
    {
     "name": "stdout",
     "output_type": "stream",
     "text": [
      "{'<unk>': 0, 'a': 1, 'b': 2, 'c': 3, 'd': 4, 'e': 5} \n",
      " a b c a b b x a\n"
     ]
    }
   ],
   "source": [
    "print(w2i, \"\\n\", s)"
   ]
  },
  {
   "cell_type": "code",
   "execution_count": 13,
   "metadata": {
    "executionInfo": {
     "elapsed": 208,
     "status": "ok",
     "timestamp": 1732085404554,
     "user": {
      "displayName": "",
      "userId": ""
     },
     "user_tz": -180
    },
    "id": "5l1fZpTrVCn_"
   },
   "outputs": [],
   "source": [
    "def get_w2i(token, w2i):\n",
    "    if token in w2i:\n",
    "        return w2i[token]\n",
    "    else:\n",
    "        return w2i[\"<unk>\"]"
   ]
  },
  {
   "cell_type": "code",
   "execution_count": 14,
   "metadata": {
    "executionInfo": {
     "elapsed": 229,
     "status": "ok",
     "timestamp": 1732086106665,
     "user": {
      "displayName": "",
      "userId": ""
     },
     "user_tz": -180
    },
    "id": "BuaM62YwRstm"
   },
   "outputs": [],
   "source": [
    "def calc_likelihood(s, pi, A, w2i):\n",
    "    tokens = s.split()\n",
    "    total_proba = 1.0\n",
    "    for i, token in enumerate(tokens):\n",
    "        token_index = get_w2i(token, w2i)\n",
    "        if i == 0:\n",
    "            proba = pi[token_index]\n",
    "            total_proba *= proba\n",
    "        else:\n",
    "            previous_token = tokens[i-1]\n",
    "            previous_token_index = get_w2i(previous_token, w2i)\n",
    "            proba = A[previous_token_index][token_index]\n",
    "            total_proba *= proba\n",
    "\n",
    "    return total_proba"
   ]
  },
  {
   "cell_type": "code",
   "execution_count": 15,
   "metadata": {
    "colab": {
     "base_uri": "https://localhost:8080/"
    },
    "executionInfo": {
     "elapsed": 4,
     "status": "ok",
     "timestamp": 1732086149817,
     "user": {
      "displayName": "",
      "userId": ""
     },
     "user_tz": -180
    },
    "id": "IHvXcEH-YJW3",
    "outputId": "f6675a6c-f000-426c-cbc8-624330c50e5c"
   },
   "outputs": [
    {
     "name": "stdout",
     "output_type": "stream",
     "text": [
      "5.604697543617997e-06 6.956618526866461e-07\n"
     ]
    }
   ],
   "source": [
    "likelihood_0 = calc_likelihood(s, pi_0, A_0, w2i)\n",
    "likelihood_1 = calc_likelihood(s, pi_1, A_1, w2i)\n",
    "print(likelihood_0, likelihood_1)"
   ]
  },
  {
   "cell_type": "code",
   "execution_count": 16,
   "metadata": {
    "colab": {
     "base_uri": "https://localhost:8080/"
    },
    "executionInfo": {
     "elapsed": 245,
     "status": "ok",
     "timestamp": 1732085974569,
     "user": {
      "displayName": "",
      "userId": ""
     },
     "user_tz": -180
    },
    "id": "J-vd_c1rS0JY",
    "outputId": "da052e28-3ea0-4117-9c39-9b33a5c3b2fb"
   },
   "outputs": [
    {
     "name": "stdout",
     "output_type": "stream",
     "text": [
      "0.42857142857142855 0.5714285714285714\n"
     ]
    }
   ],
   "source": [
    "prior_0 = len(cls_0) / (len(cls_0) + len(cls_1))\n",
    "prior_1 = len(cls_1) / (len(cls_0) + len(cls_1))\n",
    "print(prior_0, prior_1)"
   ]
  },
  {
   "cell_type": "code",
   "execution_count": 18,
   "metadata": {
    "colab": {
     "base_uri": "https://localhost:8080/"
    },
    "executionInfo": {
     "elapsed": 235,
     "status": "ok",
     "timestamp": 1732086252253,
     "user": {
      "displayName": "",
      "userId": ""
     },
     "user_tz": -180
    },
    "id": "ApynmFHYXoO3",
    "outputId": "71b5c2e1-af2b-444f-d3c2-9119cd627946"
   },
   "outputs": [
    {
     "name": "stdout",
     "output_type": "stream",
     "text": [
      "'a b c a b b x a' dizisi ilk sınıfa (cls_0) aittir\n"
     ]
    }
   ],
   "source": [
    "proba_0 = prior_0 * likelihood_0\n",
    "proba_1 = prior_1 * likelihood_1\n",
    "if proba_0 > proba_1:\n",
    "    print(f\"'{s}' dizisi ilk sınıfa (cls_0) aittir\")\n",
    "else:\n",
    "    print(f\"'{s}' dizisi ikinci sınıfa (cls_1) aittir\")"
   ]
  },
  {
   "cell_type": "code",
   "execution_count": null,
   "metadata": {},
   "outputs": [],
   "source": []
  }
 ],
 "metadata": {
  "colab": {
   "provenance": [
    {
     "file_id": "https://github.com/ihpar/ddi/blob/main/toy_bayes.ipynb",
     "timestamp": 1732088046328
    }
   ]
  },
  "kernelspec": {
   "display_name": "mlenv",
   "language": "python",
   "name": "python3"
  },
  "language_info": {
   "codemirror_mode": {
    "name": "ipython",
    "version": 3
   },
   "file_extension": ".py",
   "mimetype": "text/x-python",
   "name": "python",
   "nbconvert_exporter": "python",
   "pygments_lexer": "ipython3",
   "version": "3.12.2"
  }
 },
 "nbformat": 4,
 "nbformat_minor": 0
}
