{
 "cells": [
  {
   "cell_type": "code",
   "execution_count": 1,
   "metadata": {
    "executionInfo": {
     "elapsed": 300,
     "status": "ok",
     "timestamp": 1731481419331,
     "user": {
      "displayName": "ismail parlak",
      "userId": "06997315080796894850"
     },
     "user_tz": -180
    },
    "id": "nOiPjW35VWwJ"
   },
   "outputs": [],
   "source": [
    "import numpy as np"
   ]
  },
  {
   "cell_type": "code",
   "execution_count": 2,
   "metadata": {
    "executionInfo": {
     "elapsed": 248,
     "status": "ok",
     "timestamp": 1731481537859,
     "user": {
      "displayName": "ismail parlak",
      "userId": "06997315080796894850"
     },
     "user_tz": -180
    },
    "id": "0ZVLsarTVY0i"
   },
   "outputs": [],
   "source": [
    "cls_0 = [\n",
    "    \"a b b a b c\",\n",
    "    \"a c b c b b b a\",\n",
    "    \"b a b a b c\",\n",
    "]\n",
    "\n",
    "cls_1 = [\n",
    "    \"d e b a b c\",\n",
    "    \"d c b d b b e a\",\n",
    "    \"a a c e b c\",\n",
    "    \"d a c a c c e e\",\n",
    "]"
   ]
  },
  {
   "cell_type": "code",
   "execution_count": 3,
   "metadata": {
    "executionInfo": {
     "elapsed": 250,
     "status": "ok",
     "timestamp": 1731481606969,
     "user": {
      "displayName": "ismail parlak",
      "userId": "06997315080796894850"
     },
     "user_tz": -180
    },
    "id": "eGxsj8VQV4q7"
   },
   "outputs": [],
   "source": [
    "s = \"a b c a b b x a\""
   ]
  },
  {
   "cell_type": "code",
   "execution_count": 4,
   "metadata": {
    "executionInfo": {
     "elapsed": 263,
     "status": "ok",
     "timestamp": 1731484716947,
     "user": {
      "displayName": "ismail parlak",
      "userId": "06997315080796894850"
     },
     "user_tz": -180
    },
    "id": "7X562GuXcMEY"
   },
   "outputs": [],
   "source": [
    "def build_w2i(cls_list):\n",
    "    w2i = {\n",
    "        \"<unk>\": 0\n",
    "    }\n",
    "    i = 1\n",
    "    for cls in cls_list:\n",
    "        for s in cls:\n",
    "            tokens = s.split()\n",
    "            for token in tokens:\n",
    "                if token in w2i:\n",
    "                    continue\n",
    "\n",
    "                w2i[token] = i\n",
    "                i += 1\n",
    "    return w2i"
   ]
  },
  {
   "cell_type": "code",
   "execution_count": 5,
   "metadata": {
    "colab": {
     "base_uri": "https://localhost:8080/"
    },
    "executionInfo": {
     "elapsed": 252,
     "status": "ok",
     "timestamp": 1731484727294,
     "user": {
      "displayName": "ismail parlak",
      "userId": "06997315080796894850"
     },
     "user_tz": -180
    },
    "id": "bHSF37DNcRon",
    "outputId": "4f1d56eb-1fe3-4b1b-d81d-8d8dd1bee4fe"
   },
   "outputs": [
    {
     "name": "stdout",
     "output_type": "stream",
     "text": [
      "{'<unk>': 0, 'a': 1, 'b': 2, 'c': 3, 'd': 4, 'e': 5}\n"
     ]
    }
   ],
   "source": [
    "w2i = build_w2i([cls_0, cls_1])\n",
    "print(w2i)"
   ]
  },
  {
   "cell_type": "code",
   "execution_count": 6,
   "metadata": {
    "colab": {
     "base_uri": "https://localhost:8080/"
    },
    "executionInfo": {
     "elapsed": 266,
     "status": "ok",
     "timestamp": 1731484729075,
     "user": {
      "displayName": "ismail parlak",
      "userId": "06997315080796894850"
     },
     "user_tz": -180
    },
    "id": "xq9xGhKdc89X",
    "outputId": "3c22a50b-2d4c-461d-f3ba-6abaf7a97e93"
   },
   "outputs": [
    {
     "data": {
      "text/plain": [
       "6"
      ]
     },
     "execution_count": 6,
     "metadata": {},
     "output_type": "execute_result"
    }
   ],
   "source": [
    "len(w2i)"
   ]
  },
  {
   "cell_type": "code",
   "execution_count": 7,
   "metadata": {
    "executionInfo": {
     "elapsed": 275,
     "status": "ok",
     "timestamp": 1731484731118,
     "user": {
      "displayName": "ismail parlak",
      "userId": "06997315080796894850"
     },
     "user_tz": -180
    },
    "id": "KW6uxBaue-oG"
   },
   "outputs": [],
   "source": [
    "def build_pi(w2i, docs):\n",
    "    pi = np.ones((len(w2i), ))\n",
    "    for s in docs:\n",
    "        tokens = s.split()\n",
    "        first_token = tokens[0]\n",
    "        first_token_index = w2i[first_token]\n",
    "        pi[first_token_index] += 1\n",
    "\n",
    "    pi = pi / pi.sum()\n",
    "    return pi"
   ]
  },
  {
   "cell_type": "code",
   "execution_count": 8,
   "metadata": {
    "executionInfo": {
     "elapsed": 259,
     "status": "ok",
     "timestamp": 1731484733986,
     "user": {
      "displayName": "ismail parlak",
      "userId": "06997315080796894850"
     },
     "user_tz": -180
    },
    "id": "7rcGqtX1f5iX"
   },
   "outputs": [],
   "source": [
    "pi_0 = build_pi(w2i, cls_0)\n",
    "pi_1 = build_pi(w2i, cls_1)"
   ]
  },
  {
   "cell_type": "code",
   "execution_count": 9,
   "metadata": {
    "colab": {
     "base_uri": "https://localhost:8080/"
    },
    "executionInfo": {
     "elapsed": 253,
     "status": "ok",
     "timestamp": 1731484745568,
     "user": {
      "displayName": "ismail parlak",
      "userId": "06997315080796894850"
     },
     "user_tz": -180
    },
    "id": "kAsFBMNxf-zO",
    "outputId": "8d528b68-23a8-4e62-cfdb-a9cda82baf58"
   },
   "outputs": [
    {
     "data": {
      "text/plain": [
       "array([0.1, 0.2, 0.1, 0.1, 0.4, 0.1])"
      ]
     },
     "execution_count": 9,
     "metadata": {},
     "output_type": "execute_result"
    }
   ],
   "source": [
    "pi_1"
   ]
  },
  {
   "cell_type": "code",
   "execution_count": 10,
   "metadata": {
    "colab": {
     "base_uri": "https://localhost:8080/"
    },
    "executionInfo": {
     "elapsed": 279,
     "status": "ok",
     "timestamp": 1731485197262,
     "user": {
      "displayName": "ismail parlak",
      "userId": "06997315080796894850"
     },
     "user_tz": -180
    },
    "id": "cpIQhSRwgFoV",
    "outputId": "944314e8-1c30-4800-9cc3-480525d255fb"
   },
   "outputs": [
    {
     "data": {
      "text/plain": [
       "array([[1., 1., 1., 1., 1., 1.],\n",
       "       [1., 1., 1., 1., 1., 1.],\n",
       "       [1., 1., 1., 1., 1., 1.],\n",
       "       [1., 1., 1., 1., 1., 1.],\n",
       "       [1., 1., 1., 1., 1., 1.],\n",
       "       [1., 1., 1., 1., 1., 1.]])"
      ]
     },
     "execution_count": 10,
     "metadata": {},
     "output_type": "execute_result"
    }
   ],
   "source": [
    "A_0 = np.ones((len(w2i), len(w2i)))\n",
    "A_0"
   ]
  },
  {
   "cell_type": "code",
   "execution_count": 11,
   "metadata": {
    "colab": {
     "base_uri": "https://localhost:8080/"
    },
    "executionInfo": {
     "elapsed": 3,
     "status": "ok",
     "timestamp": 1731485339568,
     "user": {
      "displayName": "ismail parlak",
      "userId": "06997315080796894850"
     },
     "user_tz": -180
    },
    "id": "GYJiVSGikT3m",
    "outputId": "055df8e7-e010-480c-b947-a0d03f6f6bb9"
   },
   "outputs": [
    {
     "name": "stdout",
     "output_type": "stream",
     "text": [
      "2\n",
      "3\n",
      "4\n"
     ]
    }
   ],
   "source": [
    "for i in range(2, 5):\n",
    "    print(i)"
   ]
  },
  {
   "cell_type": "code",
   "execution_count": 12,
   "metadata": {
    "colab": {
     "base_uri": "https://localhost:8080/"
    },
    "executionInfo": {
     "elapsed": 300,
     "status": "ok",
     "timestamp": 1731485524958,
     "user": {
      "displayName": "ismail parlak",
      "userId": "06997315080796894850"
     },
     "user_tz": -180
    },
    "id": "KvtnLhBpj1jd",
    "outputId": "d98e20d6-97ad-4a86-dc1b-fb820d0f5847"
   },
   "outputs": [
    {
     "name": "stdout",
     "output_type": "stream",
     "text": [
      "[[1. 1. 1. 1. 1. 1.]\n",
      " [1. 1. 5. 2. 1. 1.]\n",
      " [1. 5. 4. 4. 1. 1.]\n",
      " [1. 1. 3. 1. 1. 1.]\n",
      " [1. 1. 1. 1. 1. 1.]\n",
      " [1. 1. 1. 1. 1. 1.]]\n"
     ]
    }
   ],
   "source": [
    "for doc in cls_0:\n",
    "    tokens = doc.split()\n",
    "    token_count = len(tokens)\n",
    "    for i in range(1, token_count):\n",
    "        curr = tokens[i]\n",
    "        prev = tokens[i-1]\n",
    "        curr_token_index = w2i[curr]\n",
    "        prev_token_index = w2i[prev]\n",
    "        A_0[prev_token_index][curr_token_index] += 1\n",
    "\n",
    "print(A_0)"
   ]
  },
  {
   "cell_type": "code",
   "execution_count": 13,
   "metadata": {
    "colab": {
     "base_uri": "https://localhost:8080/"
    },
    "executionInfo": {
     "elapsed": 3,
     "status": "ok",
     "timestamp": 1731485681233,
     "user": {
      "displayName": "ismail parlak",
      "userId": "06997315080796894850"
     },
     "user_tz": -180
    },
    "id": "D-kb6FttkFU-",
    "outputId": "81d3caf4-bea1-4a3c-e148-681d40896202"
   },
   "outputs": [
    {
     "data": {
      "text/plain": [
       "array([[ 6.],\n",
       "       [11.],\n",
       "       [16.],\n",
       "       [ 8.],\n",
       "       [ 6.],\n",
       "       [ 6.]])"
      ]
     },
     "execution_count": 13,
     "metadata": {},
     "output_type": "execute_result"
    }
   ],
   "source": [
    "A_0.sum(axis=1, keepdims=True)"
   ]
  },
  {
   "cell_type": "code",
   "execution_count": 14,
   "metadata": {
    "colab": {
     "base_uri": "https://localhost:8080/"
    },
    "executionInfo": {
     "elapsed": 256,
     "status": "ok",
     "timestamp": 1731485706010,
     "user": {
      "displayName": "ismail parlak",
      "userId": "06997315080796894850"
     },
     "user_tz": -180
    },
    "id": "BBbOO5vmlf51",
    "outputId": "fb99026c-3823-4c02-c7d9-bc769c05f066"
   },
   "outputs": [
    {
     "data": {
      "text/plain": [
       "array([[0.16666667, 0.16666667, 0.16666667, 0.16666667, 0.16666667,\n",
       "        0.16666667],\n",
       "       [0.09090909, 0.09090909, 0.45454545, 0.18181818, 0.09090909,\n",
       "        0.09090909],\n",
       "       [0.0625    , 0.3125    , 0.25      , 0.25      , 0.0625    ,\n",
       "        0.0625    ],\n",
       "       [0.125     , 0.125     , 0.375     , 0.125     , 0.125     ,\n",
       "        0.125     ],\n",
       "       [0.16666667, 0.16666667, 0.16666667, 0.16666667, 0.16666667,\n",
       "        0.16666667],\n",
       "       [0.16666667, 0.16666667, 0.16666667, 0.16666667, 0.16666667,\n",
       "        0.16666667]])"
      ]
     },
     "execution_count": 14,
     "metadata": {},
     "output_type": "execute_result"
    }
   ],
   "source": [
    "A_0 = A_0 / A_0.sum(axis=1, keepdims=True)\n",
    "A_0"
   ]
  },
  {
   "cell_type": "code",
   "execution_count": 15,
   "metadata": {
    "executionInfo": {
     "elapsed": 262,
     "status": "ok",
     "timestamp": 1731485853022,
     "user": {
      "displayName": "ismail parlak",
      "userId": "06997315080796894850"
     },
     "user_tz": -180
    },
    "id": "JwfzacUWlyQc"
   },
   "outputs": [],
   "source": [
    "def build_A(w2i, docs):\n",
    "    A = np.ones((len(w2i), len(w2i)))\n",
    "    for doc in docs:\n",
    "        tokens = doc.split()\n",
    "        token_count = len(tokens)\n",
    "        for i in range(1, token_count):\n",
    "            curr = tokens[i]\n",
    "            prev = tokens[i-1]\n",
    "            curr_token_index = w2i[curr]\n",
    "            prev_token_index = w2i[prev]\n",
    "            A[prev_token_index][curr_token_index] += 1\n",
    "\n",
    "    A = A / A.sum(axis=1, keepdims=True)\n",
    "    return A"
   ]
  },
  {
   "cell_type": "code",
   "execution_count": 16,
   "metadata": {
    "executionInfo": {
     "elapsed": 264,
     "status": "ok",
     "timestamp": 1731485902669,
     "user": {
      "displayName": "ismail parlak",
      "userId": "06997315080796894850"
     },
     "user_tz": -180
    },
    "id": "1JsDJsoxmX4V"
   },
   "outputs": [],
   "source": [
    "A_0 = build_A(w2i, cls_0)\n",
    "A_1 = build_A(w2i, cls_1)"
   ]
  },
  {
   "cell_type": "code",
   "execution_count": 17,
   "metadata": {
    "colab": {
     "base_uri": "https://localhost:8080/"
    },
    "executionInfo": {
     "elapsed": 4,
     "status": "ok",
     "timestamp": 1731485907878,
     "user": {
      "displayName": "ismail parlak",
      "userId": "06997315080796894850"
     },
     "user_tz": -180
    },
    "id": "lU2s4IkxmdPE",
    "outputId": "805f995d-1950-4d56-df0a-e32fdd7f9340"
   },
   "outputs": [
    {
     "data": {
      "text/plain": [
       "array([0.11111111, 0.33333333, 0.22222222, 0.11111111, 0.11111111,\n",
       "       0.11111111])"
      ]
     },
     "execution_count": 17,
     "metadata": {},
     "output_type": "execute_result"
    }
   ],
   "source": [
    "pi_0"
   ]
  },
  {
   "cell_type": "code",
   "execution_count": 18,
   "metadata": {
    "colab": {
     "base_uri": "https://localhost:8080/"
    },
    "executionInfo": {
     "elapsed": 256,
     "status": "ok",
     "timestamp": 1731485912696,
     "user": {
      "displayName": "ismail parlak",
      "userId": "06997315080796894850"
     },
     "user_tz": -180
    },
    "id": "61O1WcwCmjh8",
    "outputId": "95f36f7e-adde-4c6b-ec55-00fb038149be"
   },
   "outputs": [
    {
     "data": {
      "text/plain": [
       "array([0.1, 0.2, 0.1, 0.1, 0.4, 0.1])"
      ]
     },
     "execution_count": 18,
     "metadata": {},
     "output_type": "execute_result"
    }
   ],
   "source": [
    "pi_1"
   ]
  },
  {
   "cell_type": "code",
   "execution_count": 19,
   "metadata": {
    "colab": {
     "base_uri": "https://localhost:8080/"
    },
    "executionInfo": {
     "elapsed": 262,
     "status": "ok",
     "timestamp": 1731485918836,
     "user": {
      "displayName": "ismail parlak",
      "userId": "06997315080796894850"
     },
     "user_tz": -180
    },
    "id": "thZ3tGArmkpb",
    "outputId": "1b6e510e-b745-4ec0-834e-248da7d9448d"
   },
   "outputs": [
    {
     "data": {
      "text/plain": [
       "array([[0.16666667, 0.16666667, 0.16666667, 0.16666667, 0.16666667,\n",
       "        0.16666667],\n",
       "       [0.09090909, 0.09090909, 0.45454545, 0.18181818, 0.09090909,\n",
       "        0.09090909],\n",
       "       [0.0625    , 0.3125    , 0.25      , 0.25      , 0.0625    ,\n",
       "        0.0625    ],\n",
       "       [0.125     , 0.125     , 0.375     , 0.125     , 0.125     ,\n",
       "        0.125     ],\n",
       "       [0.16666667, 0.16666667, 0.16666667, 0.16666667, 0.16666667,\n",
       "        0.16666667],\n",
       "       [0.16666667, 0.16666667, 0.16666667, 0.16666667, 0.16666667,\n",
       "        0.16666667]])"
      ]
     },
     "execution_count": 19,
     "metadata": {},
     "output_type": "execute_result"
    }
   ],
   "source": [
    "A_0"
   ]
  },
  {
   "cell_type": "code",
   "execution_count": 20,
   "metadata": {
    "colab": {
     "base_uri": "https://localhost:8080/"
    },
    "executionInfo": {
     "elapsed": 3,
     "status": "ok",
     "timestamp": 1731485923805,
     "user": {
      "displayName": "ismail parlak",
      "userId": "06997315080796894850"
     },
     "user_tz": -180
    },
    "id": "3rmjTRlbmmHk",
    "outputId": "370a38fd-f189-4854-ddc1-fe9d0fea1e19"
   },
   "outputs": [
    {
     "data": {
      "text/plain": [
       "array([[0.16666667, 0.16666667, 0.16666667, 0.16666667, 0.16666667,\n",
       "        0.16666667],\n",
       "       [0.09090909, 0.18181818, 0.18181818, 0.36363636, 0.09090909,\n",
       "        0.09090909],\n",
       "       [0.08333333, 0.16666667, 0.16666667, 0.25      , 0.16666667,\n",
       "        0.16666667],\n",
       "       [0.09090909, 0.18181818, 0.18181818, 0.18181818, 0.09090909,\n",
       "        0.27272727],\n",
       "       [0.1       , 0.2       , 0.2       , 0.2       , 0.1       ,\n",
       "        0.2       ],\n",
       "       [0.1       , 0.2       , 0.3       , 0.1       , 0.1       ,\n",
       "        0.2       ]])"
      ]
     },
     "execution_count": 20,
     "metadata": {},
     "output_type": "execute_result"
    }
   ],
   "source": [
    "A_1"
   ]
  },
  {
   "cell_type": "code",
   "execution_count": null,
   "metadata": {
    "id": "ZxRnB0TYmnds"
   },
   "outputs": [],
   "source": []
  }
 ],
 "metadata": {
  "colab": {
   "authorship_tag": "ABX9TyNj1vI/iJh11tEZE76toQrG",
   "provenance": []
  },
  "kernelspec": {
   "display_name": "mlenv",
   "language": "python",
   "name": "python3"
  },
  "language_info": {
   "codemirror_mode": {
    "name": "ipython",
    "version": 3
   },
   "file_extension": ".py",
   "mimetype": "text/x-python",
   "name": "python",
   "nbconvert_exporter": "python",
   "pygments_lexer": "ipython3",
   "version": "3.12.2"
  }
 },
 "nbformat": 4,
 "nbformat_minor": 0
}
